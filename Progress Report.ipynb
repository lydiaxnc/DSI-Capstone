{
 "cells": [
  {
   "cell_type": "markdown",
   "metadata": {
    "collapsed": true
   },
   "source": [
    "# Capston Project | Yelp - Progress Report"
   ]
  },
  {
   "cell_type": "markdown",
   "metadata": {},
   "source": [
    "Basic informatio on the dataset: \n",
    "- 2.2M reviews and 591K tips by 552K users for 77K businesses\n",
    "- 566K business attributes, e.g., hours, parking availability, ambience.\n",
    "- Social network of 552K users for a total of 3.5M social edges.\n",
    "- Aggregated check-ins over time for each of the 77K businesses\n",
    "- 200,000 pictures from the included businesses\n",
    "\n"
   ]
  },
  {
   "cell_type": "markdown",
   "metadata": {
    "collapsed": true
   },
   "source": [
    "5 files: businesss(77,445 rows), checkin(55,569 rows), review(2,225,213 rows), tip(591,864 rows), user(552,339 rows) \n",
    "- Business has a total of 36 attributes.\n",
    "- (u'Accepts Credit Cards', 56528),\n",
    " (u'Price Range', 50070),\n",
    " (u'Parking', 44617),\n",
    " (u'Good for Kids', 30328),\n",
    " (u'Outdoor Seating', 26601),\n",
    " (u'Good For Groups', 26011),\n",
    " (u'Delivery', 23624),\n",
    " (u'Take-out', 23601),\n",
    " (u'Attire', 23487),\n",
    " (u'Alcohol', 23328),\n",
    " (u'Takes Reservations', 23072),\n",
    " (u'Has TV', 22703),\n",
    " (u'Wheelchair Accessible', 22511),\n",
    " (u'Good For', 22080),\n",
    " (u'Wi-Fi', 21624),\n",
    " (u'Ambience', 21447),\n",
    " (u'Waiter Service', 21332),\n",
    " (u'Noise Level', 21305),\n",
    "- The missing attributes are either filled with 'unknown' or False based on what attribute it is. For example, attributes such as 'delivery', 'cater', 'take out', 'Wheelchair Accessible', 'Dogs Allowed' and 'Happy Hour' are more likely to be the determining factors of whether someone decides to visit that certain business, therefore the missing values are filled with 'False.'  Assuming some who has a dog with him/her yelping 'cafe' nearby,  that person is more likely to treat the missing 'Dog Allowed' information as if dogs are not allowed and find a place that he/she is sure that they can visit with dogs. However,  none-determining factors such as 'Coat Check' and 'Has TV', as well as factors we cannot assume like 'Noise Level', 'Price Range', and 'Takes Reservations' are filled with 'unknown.'"
   ]
  },
  {
   "cell_type": "markdown",
   "metadata": {
    "collapsed": true
   },
   "source": [
    "## Model Exploration "
   ]
  },
  {
   "cell_type": "markdown",
   "metadata": {},
   "source": [
    "### Cultural Trends: \n",
    "By adding a diverse set of cities, we want participants to compare and contrast what makes a particular city different. For example, are people in international cities less concerned about driving in to a business, indicated by their lack of mention about parking? What cuisines are Yelpers raving about in these different countries? Do Americans tend to eat out late compared to the Germans and English? In which countries are Yelpers sticklers for service quality? In international cities such as Montreal, are French speakers reviewing places differently than English speakers?\n",
    "\n"
   ]
  },
  {
   "cell_type": "code",
   "execution_count": 1,
   "metadata": {
    "collapsed": true
   },
   "outputs": [],
   "source": [
    "import pandas as pd"
   ]
  },
  {
   "cell_type": "code",
   "execution_count": 10,
   "metadata": {
    "collapsed": false
   },
   "outputs": [],
   "source": [
    "\n",
    "sample_df = pd.read_csv('../../capstone/merged_review_sample.csv')\n",
    "# full_df = pd.read_csv('../../capstone/merged_review.csv')"
   ]
  },
  {
   "cell_type": "code",
   "execution_count": null,
   "metadata": {
    "collapsed": false
   },
   "outputs": [],
   "source": []
  },
  {
   "cell_type": "code",
   "execution_count": 12,
   "metadata": {
    "collapsed": false
   },
   "outputs": [],
   "source": [
    "drop = ['votes_y','friends','elite','compliments','votes_x','type_y','user_id','type_x','review_id','attributes',\\\n",
    "        'business_id','full_address','hours','neighborhoods','open','Unnamed: 0','city','name_x','name_y','type','compliment']\n",
    "ndf = sample_df.drop(drop, 1)\n"
   ]
  },
  {
   "cell_type": "code",
   "execution_count": 13,
   "metadata": {
    "collapsed": false
   },
   "outputs": [
    {
     "name": "stdout",
     "output_type": "stream",
     "text": [
      "state\n",
      "credit_card\n",
      "price\n",
      "parking\n",
      "kids\n",
      "ourdoor_seating\n",
      "groups\n",
      "delivery\n",
      "take_out\n",
      "attire\n",
      "alcohol\n",
      "reservation\n",
      "tv\n",
      "wheelchair\n",
      "wifi\n",
      "waiter\n",
      "noise\n",
      "cater\n",
      "appointment_only\n",
      "happy_hour\n",
      "dancing\n",
      "coatcheck\n",
      "dogs\n",
      "drive_thru\n"
     ]
    }
   ],
   "source": [
    "c = ['state', 'credit_card', 'price', 'parking', 'kids', 'ourdoor_seating', 'groups',\\\n",
    "    'delivery', 'take_out', 'attire', 'alcohol', 'reservation', 'tv', 'wheelchair', 'wifi', 'waiter', \\\n",
    "     'noise', 'cater', 'appointment_only', 'happy_hour', 'dancing', 'coatcheck', 'dogs', 'drive_thru']\n",
    "temp = pd.DataFrame()\n",
    "for i in c:\n",
    "    print i\n",
    "    unique = list(ndf[i].unique())\n",
    "    unique_n = {y:x for x, y in enumerate(unique)}\n",
    "    temp[i] = ndf[i].apply(lambda x: unique_n[x])"
   ]
  },
  {
   "cell_type": "code",
   "execution_count": null,
   "metadata": {
    "collapsed": false
   },
   "outputs": [],
   "source": []
  },
  {
   "cell_type": "code",
   "execution_count": 28,
   "metadata": {
    "collapsed": false
   },
   "outputs": [],
   "source": [
    "x = temp.iloc[:,1:]"
   ]
  },
  {
   "cell_type": "code",
   "execution_count": 47,
   "metadata": {
    "collapsed": false
   },
   "outputs": [],
   "source": [
    "y = ndf['stars_y']"
   ]
  },
  {
   "cell_type": "code",
   "execution_count": 48,
   "metadata": {
    "collapsed": true
   },
   "outputs": [],
   "source": [
    "from sklearn.cross_validation import train_test_split, cross_val_score\n",
    "x_train, x_test, y_train, y_test = train_test_split(x, y, test_size=0.33, random_state=3)"
   ]
  },
  {
   "cell_type": "code",
   "execution_count": null,
   "metadata": {
    "collapsed": false
   },
   "outputs": [],
   "source": []
  },
  {
   "cell_type": "code",
   "execution_count": 49,
   "metadata": {
    "collapsed": false
   },
   "outputs": [
    {
     "name": "stdout",
     "output_type": "stream",
     "text": [
      "Decision Tree Accuracy Score: 0.423129251701\n",
      "Bagging Decision Tree Accuracy Score: 0.480272108844\n",
      "Random Forest Accuracy Score: 0.477551020408\n",
      "Extra Tree Accuracy Score: 0.451700680272\n",
      "Ada Boost Accuracy Score: 0.538775510204\n",
      "Gradient Boosting Accuracy Score: 0.531972789116\n"
     ]
    }
   ],
   "source": [
    "from sklearn.tree import DecisionTreeClassifier\n",
    "from sklearn.ensemble import GradientBoostingClassifier,AdaBoostClassifier,RandomForestClassifier, BaggingClassifier, RandomForestClassifier, ExtraTreesClassifier\n",
    "\n",
    "# try other ensemble methods (random forest=, extra tree, adaboost, gradient boosting)\n",
    "dt = DecisionTreeClassifier(random_state=3)\n",
    "bdt = BaggingClassifier(DecisionTreeClassifier(random_state=3))\n",
    "rfdt = RandomForestClassifier(random_state=3)\n",
    "etdt = ExtraTreesClassifier(random_state=3)\n",
    "abdt = AdaBoostClassifier(random_state=3)\n",
    "gbdt = GradientBoostingClassifier(random_state=3)\n",
    "\n",
    "# apply those models to the train set \n",
    "result_dt = dt.fit(x_train,y_train)\n",
    "result_bdt = bdt.fit(x_train,y_train)\n",
    "result_rfdt = rfdt.fit(x_train,y_train)\n",
    "result_etdt = etdt.fit(x_train,y_train)\n",
    "result_abdt = abdt.fit(x_train,y_train)\n",
    "result_gbdt = gbdt.fit(x_train,y_train)\n",
    "\n",
    "# print out the accuracy scores \n",
    "print \"Decision Tree Accuracy Score: \" + str(result_dt.score(x_test,y_test))\n",
    "print \"Bagging Decision Tree Accuracy Score: \" + str(result_bdt.score(x_test,y_test))\n",
    "print \"Random Forest Accuracy Score: \" + str(result_rfdt.score(x_test,y_test))\n",
    "print \"Extra Tree Accuracy Score: \" + str(result_etdt.score(x_test,y_test))\n",
    "print \"Ada Boost Accuracy Score: \" + str(result_abdt.score(x_test,y_test))\n",
    "print \"Gradient Boosting Accuracy Score: \" + str(result_gbdt.score(x_test,y_test))"
   ]
  },
  {
   "cell_type": "code",
   "execution_count": 52,
   "metadata": {
    "collapsed": false
   },
   "outputs": [
    {
     "name": "stdout",
     "output_type": "stream",
     "text": [
      "Random Forest\n",
      "                  importance\n",
      "wifi                0.118548\n",
      "price               0.088968\n",
      "noise               0.078202\n",
      "alcohol             0.065903\n",
      "ourdoor_seating     0.061687\n",
      "wheelchair          0.060873\n",
      "cater               0.059226\n",
      "tv                  0.056107\n",
      "kids                0.054169\n",
      "reservation         0.050601\n",
      "parking             0.040821\n",
      "delivery            0.040207\n",
      "waiter              0.034185\n",
      "coatcheck           0.026408\n",
      "groups              0.026327\n",
      "dogs                0.026213\n",
      "attire              0.026132\n",
      "take_out            0.025761\n",
      "happy_hour          0.020393\n",
      "credit_card         0.012880\n",
      "dancing             0.010585\n",
      "appointment_only    0.009381\n",
      "drive_thru          0.006423\n",
      "\n",
      "Extra Tree\n",
      "                  importance\n",
      "wifi                0.100537\n",
      "price               0.095212\n",
      "wheelchair          0.070046\n",
      "noise               0.069911\n",
      "ourdoor_seating     0.067862\n",
      "tv                  0.060373\n",
      "cater               0.056823\n",
      "alcohol             0.056255\n",
      "kids                0.048314\n",
      "parking             0.046790\n",
      "reservation         0.046745\n",
      "waiter              0.040026\n",
      "take_out            0.034024\n",
      "delivery            0.033880\n",
      "groups              0.030449\n",
      "coatcheck           0.025825\n",
      "attire              0.025749\n",
      "dogs                0.025346\n",
      "happy_hour          0.022047\n",
      "credit_card         0.017335\n",
      "appointment_only    0.010278\n",
      "dancing             0.009841\n",
      "drive_thru          0.006333\n",
      "\n",
      "Ada Boost\n",
      "                  importance\n",
      "kids                    0.16\n",
      "wifi                    0.12\n",
      "noise                   0.12\n",
      "attire                  0.08\n",
      "parking                 0.06\n",
      "alcohol                 0.06\n",
      "price                   0.06\n",
      "credit_card             0.04\n",
      "ourdoor_seating         0.04\n",
      "groups                  0.04\n",
      "reservation             0.04\n",
      "cater                   0.02\n",
      "dogs                    0.02\n",
      "coatcheck               0.02\n",
      "dancing                 0.02\n",
      "appointment_only        0.02\n",
      "drive_thru              0.02\n",
      "waiter                  0.02\n",
      "wheelchair              0.02\n",
      "delivery                0.02\n",
      "happy_hour              0.00\n",
      "take_out                0.00\n",
      "tv                      0.00\n",
      "\n",
      "Gradient Boosting\n",
      "                  importance\n",
      "noise               0.096351\n",
      "wifi                0.091023\n",
      "price               0.086661\n",
      "parking             0.069271\n",
      "kids                0.057763\n",
      "alcohol             0.056490\n",
      "tv                  0.052049\n",
      "coatcheck           0.051417\n",
      "attire              0.051174\n",
      "wheelchair          0.045394\n",
      "ourdoor_seating     0.036490\n",
      "waiter              0.035577\n",
      "happy_hour          0.034186\n",
      "groups              0.033813\n",
      "reservation         0.032156\n",
      "dogs                0.031617\n",
      "credit_card         0.029448\n",
      "take_out            0.026977\n",
      "dancing             0.021988\n",
      "appointment_only    0.018275\n",
      "cater               0.014997\n",
      "drive_thru          0.014976\n",
      "delivery            0.011906\n",
      "\n"
     ]
    }
   ],
   "source": [
    "feature_importances_rf = pd.DataFrame(result_rfdt.feature_importances_, \n",
    "                                   index = x.columns,\n",
    "                                    columns=['importance']).sort_values('importance',\n",
    "                                                                        ascending=False)\n",
    "print 'Random Forest'\n",
    "print feature_importances_rf\n",
    "print ''\n",
    "\n",
    "feature_importances_et = pd.DataFrame(result_etdt.feature_importances_, \n",
    "                                   index = x.columns,\n",
    "                                    columns=['importance']).sort_values('importance',\n",
    "                                                                        ascending=False)\n",
    "print 'Extra Tree'\n",
    "print feature_importances_et\n",
    "print ''\n",
    "\n",
    "feature_importances_ab = pd.DataFrame(result_abdt.feature_importances_, \n",
    "                                   index = x.columns,\n",
    "                                    columns=['importance']).sort_values('importance',\n",
    "                                                                        ascending=False)\n",
    "print 'Ada Boost'\n",
    "print feature_importances_ab\n",
    "print ''\n",
    "\n",
    "feature_importances_gb = pd.DataFrame(result_gbdt.feature_importances_, \n",
    "                                   index = x.columns,\n",
    "                                    columns=['importance']).sort_values('importance',\n",
    "                                                                        ascending=False)\n",
    "print 'Gradient Boosting'\n",
    "print feature_importances_gb\n",
    "print ''"
   ]
  },
  {
   "cell_type": "code",
   "execution_count": 106,
   "metadata": {
    "collapsed": false
   },
   "outputs": [],
   "source": [
    "def clean(x):\n",
    "    try: \n",
    "        z = x.replace('\\n\\n',' ')\n",
    "\n",
    "        return z\n",
    "    except: \n",
    "        pass\n",
    "temp['text']= df['text'].apply(clean)"
   ]
  },
  {
   "cell_type": "code",
   "execution_count": 112,
   "metadata": {
    "collapsed": false
   },
   "outputs": [
    {
     "data": {
      "text/plain": [
       "'The skylofts are truly amazing.  We stayed in the two bedroom loft which was about 3000 sq/ft.  There are incredible views of the strip and of the airport.  The rolls royce picked us up at the airport and we bypassed the mile long check in line upon arrival.  We got an escort to the room where the butler was waiting with fresh juice.  All the cokes, fiji water, and sprites included.  The room was incredible.  Completely sound proof and every room and living room has bang and olufson sound systems.  We ordered room service and the butler delivered and set everything up on the dining table.  The food was pricey but very good.  I would highly recommend staying at the skylofts.  You wont regret it!'"
      ]
     },
     "execution_count": 112,
     "metadata": {},
     "output_type": "execute_result"
    }
   ],
   "source": [
    "temp.text[595]"
   ]
  },
  {
   "cell_type": "code",
   "execution_count": 7,
   "metadata": {
    "collapsed": false
   },
   "outputs": [
    {
     "ename": "NameError",
     "evalue": "name 'temp' is not defined",
     "output_type": "error",
     "traceback": [
      "\u001b[0;31m---------------------------------------------------------------------------\u001b[0m",
      "\u001b[0;31mNameError\u001b[0m                                 Traceback (most recent call last)",
      "\u001b[0;32m<ipython-input-7-110431563a0a>\u001b[0m in \u001b[0;36m<module>\u001b[0;34m()\u001b[0m\n\u001b[1;32m      4\u001b[0m \u001b[0;31m# strip unnesscery words\u001b[0m\u001b[0;34m\u001b[0m\u001b[0;34m\u001b[0m\u001b[0m\n\u001b[1;32m      5\u001b[0m \u001b[0mstemmer\u001b[0m \u001b[0;34m=\u001b[0m \u001b[0mPorterStemmer\u001b[0m\u001b[0;34m(\u001b[0m\u001b[0;34m)\u001b[0m\u001b[0;34m\u001b[0m\u001b[0m\n\u001b[0;32m----> 6\u001b[0;31m \u001b[0mtemp\u001b[0m\u001b[0;34m[\u001b[0m\u001b[0;34m'text'\u001b[0m\u001b[0;34m]\u001b[0m \u001b[0;34m=\u001b[0m \u001b[0;34m[\u001b[0m\u001b[0mstemmer\u001b[0m\u001b[0;34m.\u001b[0m\u001b[0mstem\u001b[0m\u001b[0;34m(\u001b[0m\u001b[0mt\u001b[0m\u001b[0;34m.\u001b[0m\u001b[0mdecode\u001b[0m\u001b[0;34m(\u001b[0m\u001b[0;34m'utf-8'\u001b[0m\u001b[0;34m)\u001b[0m\u001b[0;34m)\u001b[0m \u001b[0;32mfor\u001b[0m \u001b[0mt\u001b[0m \u001b[0;32min\u001b[0m \u001b[0mtemp\u001b[0m\u001b[0;34m[\u001b[0m\u001b[0;34m'text'\u001b[0m\u001b[0;34m]\u001b[0m\u001b[0;34m]\u001b[0m\u001b[0;34m\u001b[0m\u001b[0m\n\u001b[0m\u001b[1;32m      7\u001b[0m \u001b[0;34m\u001b[0m\u001b[0m\n\u001b[1;32m      8\u001b[0m \u001b[0;31m# set stop words and vectorize it\u001b[0m\u001b[0;34m\u001b[0m\u001b[0;34m\u001b[0m\u001b[0m\n",
      "\u001b[0;31mNameError\u001b[0m: name 'temp' is not defined"
     ]
    }
   ],
   "source": [
    "from nltk import *\n",
    "from nltk.stem import PorterStemmer\n",
    "from sklearn.feature_extraction.text import CountVectorizer\n",
    "# strip unnesscery words\n",
    "stemmer = PorterStemmer()\n",
    "temp['text'] = [stemmer.stem(t.decode('utf-8')) for t in temp['text']]\n",
    "\n",
    "# set stop words and vectorize it \n",
    "cvec = CountVectorizer(stop_words = 'english')\n",
    "cvec.fit(temp['text'])\n",
    "review = pd.DataFrame(cvec.fit_transform(temp['text']).todense(),\n",
    "                       columns=cvec.get_feature_names())"
   ]
  },
  {
   "cell_type": "code",
   "execution_count": null,
   "metadata": {
    "collapsed": false
   },
   "outputs": [],
   "source": [
    "x = review.values \n",
    "y = temp['star']\n",
    "\n",
    "x_train, x_test, y_train, y_test = train_test_split(x, y, test_size=0.33, random_state=3)"
   ]
  },
  {
   "cell_type": "code",
   "execution_count": 8,
   "metadata": {
    "collapsed": false
   },
   "outputs": [
    {
     "ename": "NameError",
     "evalue": "name 'x_train' is not defined",
     "output_type": "error",
     "traceback": [
      "\u001b[0;31m---------------------------------------------------------------------------\u001b[0m",
      "\u001b[0;31mNameError\u001b[0m                                 Traceback (most recent call last)",
      "\u001b[0;32m<ipython-input-8-3b6766a2b743>\u001b[0m in \u001b[0;36m<module>\u001b[0;34m()\u001b[0m\n\u001b[1;32m     11\u001b[0m \u001b[0;34m\u001b[0m\u001b[0m\n\u001b[1;32m     12\u001b[0m \u001b[0;31m# apply those models to the train set\u001b[0m\u001b[0;34m\u001b[0m\u001b[0;34m\u001b[0m\u001b[0m\n\u001b[0;32m---> 13\u001b[0;31m \u001b[0mresult_dt\u001b[0m \u001b[0;34m=\u001b[0m \u001b[0mdt\u001b[0m\u001b[0;34m.\u001b[0m\u001b[0mfit\u001b[0m\u001b[0;34m(\u001b[0m\u001b[0mx_train\u001b[0m\u001b[0;34m,\u001b[0m\u001b[0my_train\u001b[0m\u001b[0;34m)\u001b[0m\u001b[0;34m\u001b[0m\u001b[0m\n\u001b[0m\u001b[1;32m     14\u001b[0m \u001b[0mresult_bdt\u001b[0m \u001b[0;34m=\u001b[0m \u001b[0mbdt\u001b[0m\u001b[0;34m.\u001b[0m\u001b[0mfit\u001b[0m\u001b[0;34m(\u001b[0m\u001b[0mx_train\u001b[0m\u001b[0;34m,\u001b[0m\u001b[0my_train\u001b[0m\u001b[0;34m)\u001b[0m\u001b[0;34m\u001b[0m\u001b[0m\n\u001b[1;32m     15\u001b[0m \u001b[0mresult_rfdt\u001b[0m \u001b[0;34m=\u001b[0m \u001b[0mrfdt\u001b[0m\u001b[0;34m.\u001b[0m\u001b[0mfit\u001b[0m\u001b[0;34m(\u001b[0m\u001b[0mx_train\u001b[0m\u001b[0;34m,\u001b[0m\u001b[0my_train\u001b[0m\u001b[0;34m)\u001b[0m\u001b[0;34m\u001b[0m\u001b[0m\n",
      "\u001b[0;31mNameError\u001b[0m: name 'x_train' is not defined"
     ]
    }
   ],
   "source": [
    "from sklearn.tree import DecisionTreeClassifier\n",
    "from sklearn.ensemble import GradientBoostingClassifier,AdaBoostClassifier,RandomForestClassifier, BaggingClassifier, RandomForestClassifier, ExtraTreesClassifier\n",
    "\n",
    "# try other ensemble methods (random forest=, extra tree, adaboost, gradient boosting)\n",
    "dt = DecisionTreeClassifier(random_state=3)\n",
    "bdt = BaggingClassifier(DecisionTreeClassifier(random_state=3))\n",
    "rfdt = RandomForestClassifier(random_state=3)\n",
    "etdt = ExtraTreesClassifier(random_state=3)\n",
    "abdt = AdaBoostClassifier(random_state=3)\n",
    "gbdt = GradientBoostingClassifier(random_state=3)\n",
    "\n",
    "# apply those models to the train set \n",
    "result_dt = dt.fit(x_train,y_train)\n",
    "result_bdt = bdt.fit(x_train,y_train)\n",
    "result_rfdt = rfdt.fit(x_train,y_train)\n",
    "result_etdt = etdt.fit(x_train,y_train)\n",
    "result_abdt = abdt.fit(x_train,y_train)\n",
    "result_gbdt = gbdt.fit(x_train,y_train)\n",
    "\n",
    "# print out the accuracy scores \n",
    "print \"Decision Tree Accuracy Score: \" + str(result_dt.score(x_test,y_test))\n",
    "print \"Bagging Decision Tree Accuracy Score: \" + str(result_bdt.score(x_test,y_test))\n",
    "print \"Random Forest Accuracy Score: \" + str(result_rfdt.score(x_test,y_test))\n",
    "print \"Extra Tree Accuracy Score: \" + str(result_etdt.score(x_test,y_test))\n",
    "print \"Ada Boost Accuracy Score: \" + str(result_abdt.score(x_test,y_test))\n",
    "print \"Gradient Boosting Accuracy Score: \" + str(result_gbdt.score(x_test,y_test))"
   ]
  },
  {
   "cell_type": "code",
   "execution_count": 129,
   "metadata": {
    "collapsed": false
   },
   "outputs": [
    {
     "name": "stdout",
     "output_type": "stream",
     "text": [
      "Random Forest\n",
      "            importance\n",
      "vegas         0.028862\n",
      "charlotte     0.013321\n",
      "strip         0.006695\n",
      "montreal      0.006199\n",
      "pittsburgh    0.005126\n",
      "\n",
      "Extra Tree\n",
      "           importance\n",
      "vegas        0.013041\n",
      "las          0.010051\n",
      "charlotte    0.007318\n",
      "montreal     0.006986\n",
      "phoenix      0.006513\n",
      "\n",
      "Gradient Boosting\n",
      "                 importance\n",
      "parking            0.086447\n",
      "tv                 0.072042\n",
      "alcohol            0.067728\n",
      "ourdoor_seating    0.062705\n",
      "noise              0.061974\n",
      "\n"
     ]
    }
   ],
   "source": [
    "feature_importances_rf = pd.DataFrame(result_rfdt.feature_importances_, \n",
    "                                   index = review.columns,\n",
    "                                    columns=['importance']).sort_values('importance',\n",
    "                                                                        ascending=False)\n",
    "print 'Random Forest'\n",
    "print feature_importances_rf.head()\n",
    "print ''\n",
    "\n",
    "feature_importances_et = pd.DataFrame(result_etdt.feature_importances_, \n",
    "                                   index = review.columns,\n",
    "                                    columns=['importance']).sort_values('importance',\n",
    "                                                                        ascending=False)\n",
    "print 'Extra Tree'\n",
    "print feature_importances_et.head()\n",
    "print ''\n",
    "\n",
    "feature_importances_ab = pd.DataFrame(result_abdt.feature_importances_, \n",
    "                                   index = review.columns,\n",
    "                                    columns=['importance']).sort_values('importance',\n",
    "                                                                        ascending=False)\n",
    "print 'Gradient Boosting'\n",
    "print feature_importances_gb.head()\n",
    "print ''"
   ]
  },
  {
   "cell_type": "code",
   "execution_count": null,
   "metadata": {
    "collapsed": true
   },
   "outputs": [],
   "source": []
  },
  {
   "cell_type": "code",
   "execution_count": 2,
   "metadata": {
    "collapsed": false
   },
   "outputs": [],
   "source": [
    "df_tip = pd.read_csv('../../capstone/merged_tip.csv')"
   ]
  },
  {
   "cell_type": "code",
   "execution_count": 146,
   "metadata": {
    "collapsed": false
   },
   "outputs": [
    {
     "data": {
      "text/html": [
       "<div>\n",
       "<table border=\"1\" class=\"dataframe\">\n",
       "  <thead>\n",
       "    <tr style=\"text-align: right;\">\n",
       "      <th></th>\n",
       "      <th>Unnamed: 0</th>\n",
       "      <th>attributes</th>\n",
       "      <th>business_id</th>\n",
       "      <th>categories</th>\n",
       "      <th>city</th>\n",
       "      <th>full_address</th>\n",
       "      <th>hours</th>\n",
       "      <th>latitude</th>\n",
       "      <th>longitude</th>\n",
       "      <th>name_x</th>\n",
       "      <th>...</th>\n",
       "      <th>number_friends</th>\n",
       "      <th>elites</th>\n",
       "      <th>compliment</th>\n",
       "      <th>number_compliments</th>\n",
       "      <th>cool_user</th>\n",
       "      <th>photo_user</th>\n",
       "      <th>hot_user</th>\n",
       "      <th>funny_user</th>\n",
       "      <th>pop_user</th>\n",
       "      <th>list_user</th>\n",
       "    </tr>\n",
       "  </thead>\n",
       "  <tbody>\n",
       "    <tr>\n",
       "      <th>0</th>\n",
       "      <td>0</td>\n",
       "      <td>{u'Good for Kids': True}</td>\n",
       "      <td>cE27W9VPgO88Qxe4ol6y_g</td>\n",
       "      <td>[Active Life, Mini Golf, Golf]</td>\n",
       "      <td>Bethel Park</td>\n",
       "      <td>1530 Hamilton Rd\\nBethel Park, PA 15234</td>\n",
       "      <td>{}</td>\n",
       "      <td>40.354116</td>\n",
       "      <td>-80.014660</td>\n",
       "      <td>Cool Springs Golf Center</td>\n",
       "      <td>...</td>\n",
       "      <td>3</td>\n",
       "      <td>0</td>\n",
       "      <td>[note, plain, cool]</td>\n",
       "      <td>5</td>\n",
       "      <td>3</td>\n",
       "      <td>0</td>\n",
       "      <td>0</td>\n",
       "      <td>0</td>\n",
       "      <td>0</td>\n",
       "      <td>0</td>\n",
       "    </tr>\n",
       "    <tr>\n",
       "      <th>1</th>\n",
       "      <td>1</td>\n",
       "      <td>{u'Alcohol': u'full_bar', u'Noise Level': u'av...</td>\n",
       "      <td>mVHrayjG3uZ_RLHkLj-AMg</td>\n",
       "      <td>[Bars, American (New), Nightlife, Lounges, Res...</td>\n",
       "      <td>rankin</td>\n",
       "      <td>414 Hawkins Ave\\nrankin, PA 15104</td>\n",
       "      <td>{u'Tuesday': {u'close': u'19:00', u'open': u'1...</td>\n",
       "      <td>40.413464</td>\n",
       "      <td>-79.880247</td>\n",
       "      <td>Emil's Lounge</td>\n",
       "      <td>...</td>\n",
       "      <td>5</td>\n",
       "      <td>0</td>\n",
       "      <td>[cool, more]</td>\n",
       "      <td>2</td>\n",
       "      <td>1</td>\n",
       "      <td>0</td>\n",
       "      <td>0</td>\n",
       "      <td>0</td>\n",
       "      <td>1</td>\n",
       "      <td>0</td>\n",
       "    </tr>\n",
       "    <tr>\n",
       "      <th>2</th>\n",
       "      <td>2</td>\n",
       "      <td>{u'Alcohol': u'full_bar', u'Noise Level': u'lo...</td>\n",
       "      <td>KayYbHCt-RkbGcPdGOThNg</td>\n",
       "      <td>[Bars, American (Traditional), Nightlife, Rest...</td>\n",
       "      <td>Carnegie</td>\n",
       "      <td>141 Hawthorne St\\nGreentree\\nCarnegie, PA 15106</td>\n",
       "      <td>{u'Monday': {u'close': u'02:00', u'open': u'11...</td>\n",
       "      <td>40.415517</td>\n",
       "      <td>-80.067534</td>\n",
       "      <td>Alexion's Bar &amp; Grill</td>\n",
       "      <td>...</td>\n",
       "      <td>8</td>\n",
       "      <td>0</td>\n",
       "      <td>[photos, hot]</td>\n",
       "      <td>2</td>\n",
       "      <td>0</td>\n",
       "      <td>2</td>\n",
       "      <td>1</td>\n",
       "      <td>0</td>\n",
       "      <td>0</td>\n",
       "      <td>0</td>\n",
       "    </tr>\n",
       "    <tr>\n",
       "      <th>3</th>\n",
       "      <td>3</td>\n",
       "      <td>{u'Alcohol': u'full_bar', u'Noise Level': u'lo...</td>\n",
       "      <td>KayYbHCt-RkbGcPdGOThNg</td>\n",
       "      <td>[Bars, American (Traditional), Nightlife, Rest...</td>\n",
       "      <td>Carnegie</td>\n",
       "      <td>141 Hawthorne St\\nGreentree\\nCarnegie, PA 15106</td>\n",
       "      <td>{u'Monday': {u'close': u'02:00', u'open': u'11...</td>\n",
       "      <td>40.415517</td>\n",
       "      <td>-80.067534</td>\n",
       "      <td>Alexion's Bar &amp; Grill</td>\n",
       "      <td>...</td>\n",
       "      <td>0</td>\n",
       "      <td>0</td>\n",
       "      <td>[]</td>\n",
       "      <td>0</td>\n",
       "      <td>0</td>\n",
       "      <td>0</td>\n",
       "      <td>0</td>\n",
       "      <td>0</td>\n",
       "      <td>0</td>\n",
       "      <td>0</td>\n",
       "    </tr>\n",
       "    <tr>\n",
       "      <th>4</th>\n",
       "      <td>4</td>\n",
       "      <td>{}</td>\n",
       "      <td>1_lU0-eSWJCRvNGk78Zh9Q</td>\n",
       "      <td>[Libraries, Public Services &amp; Government]</td>\n",
       "      <td>Carnegie</td>\n",
       "      <td>300 Beechwood Ave\\nCarnegie\\nCarnegie, PA 15106</td>\n",
       "      <td>{}</td>\n",
       "      <td>40.406842</td>\n",
       "      <td>-80.085866</td>\n",
       "      <td>Carnegie Free Library</td>\n",
       "      <td>...</td>\n",
       "      <td>5</td>\n",
       "      <td>0</td>\n",
       "      <td>[plain, cool]</td>\n",
       "      <td>3</td>\n",
       "      <td>2</td>\n",
       "      <td>0</td>\n",
       "      <td>0</td>\n",
       "      <td>0</td>\n",
       "      <td>0</td>\n",
       "      <td>0</td>\n",
       "    </tr>\n",
       "  </tbody>\n",
       "</table>\n",
       "<p>5 rows × 67 columns</p>\n",
       "</div>"
      ],
      "text/plain": [
       "   Unnamed: 0                                         attributes  \\\n",
       "0           0                           {u'Good for Kids': True}   \n",
       "1           1  {u'Alcohol': u'full_bar', u'Noise Level': u'av...   \n",
       "2           2  {u'Alcohol': u'full_bar', u'Noise Level': u'lo...   \n",
       "3           3  {u'Alcohol': u'full_bar', u'Noise Level': u'lo...   \n",
       "4           4                                                 {}   \n",
       "\n",
       "              business_id                                         categories  \\\n",
       "0  cE27W9VPgO88Qxe4ol6y_g                     [Active Life, Mini Golf, Golf]   \n",
       "1  mVHrayjG3uZ_RLHkLj-AMg  [Bars, American (New), Nightlife, Lounges, Res...   \n",
       "2  KayYbHCt-RkbGcPdGOThNg  [Bars, American (Traditional), Nightlife, Rest...   \n",
       "3  KayYbHCt-RkbGcPdGOThNg  [Bars, American (Traditional), Nightlife, Rest...   \n",
       "4  1_lU0-eSWJCRvNGk78Zh9Q          [Libraries, Public Services & Government]   \n",
       "\n",
       "          city                                     full_address  \\\n",
       "0  Bethel Park          1530 Hamilton Rd\\nBethel Park, PA 15234   \n",
       "1       rankin                414 Hawkins Ave\\nrankin, PA 15104   \n",
       "2     Carnegie  141 Hawthorne St\\nGreentree\\nCarnegie, PA 15106   \n",
       "3     Carnegie  141 Hawthorne St\\nGreentree\\nCarnegie, PA 15106   \n",
       "4     Carnegie  300 Beechwood Ave\\nCarnegie\\nCarnegie, PA 15106   \n",
       "\n",
       "                                               hours   latitude  longitude  \\\n",
       "0                                                 {}  40.354116 -80.014660   \n",
       "1  {u'Tuesday': {u'close': u'19:00', u'open': u'1...  40.413464 -79.880247   \n",
       "2  {u'Monday': {u'close': u'02:00', u'open': u'11...  40.415517 -80.067534   \n",
       "3  {u'Monday': {u'close': u'02:00', u'open': u'11...  40.415517 -80.067534   \n",
       "4                                                 {}  40.406842 -80.085866   \n",
       "\n",
       "                     name_x    ...    number_friends elites  \\\n",
       "0  Cool Springs Golf Center    ...                 3      0   \n",
       "1             Emil's Lounge    ...                 5      0   \n",
       "2     Alexion's Bar & Grill    ...                 8      0   \n",
       "3     Alexion's Bar & Grill    ...                 0      0   \n",
       "4     Carnegie Free Library    ...                 5      0   \n",
       "\n",
       "            compliment  number_compliments cool_user photo_user hot_user  \\\n",
       "0  [note, plain, cool]                   5         3          0        0   \n",
       "1         [cool, more]                   2         1          0        0   \n",
       "2        [photos, hot]                   2         0          2        1   \n",
       "3                   []                   0         0          0        0   \n",
       "4        [plain, cool]                   3         2          0        0   \n",
       "\n",
       "  funny_user pop_user list_user  \n",
       "0          0        0         0  \n",
       "1          0        1         0  \n",
       "2          0        0         0  \n",
       "3          0        0         0  \n",
       "4          0        0         0  \n",
       "\n",
       "[5 rows x 67 columns]"
      ]
     },
     "execution_count": 146,
     "metadata": {},
     "output_type": "execute_result"
    }
   ],
   "source": [
    "df_tip.head()"
   ]
  },
  {
   "cell_type": "code",
   "execution_count": 5,
   "metadata": {
    "collapsed": false
   },
   "outputs": [],
   "source": [
    "from nltk import *\n",
    "from nltk.stem import PorterStemmer\n",
    "from sklearn.feature_extraction.text import CountVectorizer\n",
    "stemmer = PorterStemmer()\n",
    "tip = pd.DataFrame()\n",
    "tip['text'] = [stemmer.stem(t.decode('utf-8')) for t in df_tip['text']]\n",
    "\n",
    "# set stop words and vectorize it \n",
    "cvec = CountVectorizer(stop_words = 'english')\n",
    "cvec.fit(tip['text'])\n",
    "tip = pd.DataFrame(cvec.fit_transform(tip['text']).todense(),\n",
    "                       columns=cvec.get_feature_names())"
   ]
  },
  {
   "cell_type": "code",
   "execution_count": 6,
   "metadata": {
    "collapsed": false
   },
   "outputs": [
    {
     "ename": "NameError",
     "evalue": "name 'train_test_split' is not defined",
     "output_type": "error",
     "traceback": [
      "\u001b[0;31m---------------------------------------------------------------------------\u001b[0m",
      "\u001b[0;31mNameError\u001b[0m                                 Traceback (most recent call last)",
      "\u001b[0;32m<ipython-input-6-c1e49b66ca32>\u001b[0m in \u001b[0;36m<module>\u001b[0;34m()\u001b[0m\n\u001b[1;32m      2\u001b[0m \u001b[0my\u001b[0m \u001b[0;34m=\u001b[0m \u001b[0mdf_tip\u001b[0m\u001b[0;34m[\u001b[0m\u001b[0;34m'number_compliments'\u001b[0m\u001b[0;34m]\u001b[0m\u001b[0;34m\u001b[0m\u001b[0m\n\u001b[1;32m      3\u001b[0m \u001b[0;34m\u001b[0m\u001b[0m\n\u001b[0;32m----> 4\u001b[0;31m \u001b[0mx_train\u001b[0m\u001b[0;34m,\u001b[0m \u001b[0mx_test\u001b[0m\u001b[0;34m,\u001b[0m \u001b[0my_train\u001b[0m\u001b[0;34m,\u001b[0m \u001b[0my_test\u001b[0m \u001b[0;34m=\u001b[0m \u001b[0mtrain_test_split\u001b[0m\u001b[0;34m(\u001b[0m\u001b[0mx\u001b[0m\u001b[0;34m,\u001b[0m \u001b[0my\u001b[0m\u001b[0;34m,\u001b[0m \u001b[0mtest_size\u001b[0m\u001b[0;34m=\u001b[0m\u001b[0;36m0.33\u001b[0m\u001b[0;34m,\u001b[0m \u001b[0mrandom_state\u001b[0m\u001b[0;34m=\u001b[0m\u001b[0;36m3\u001b[0m\u001b[0;34m)\u001b[0m\u001b[0;34m\u001b[0m\u001b[0m\n\u001b[0m",
      "\u001b[0;31mNameError\u001b[0m: name 'train_test_split' is not defined"
     ]
    }
   ],
   "source": [
    "x = tip.values \n",
    "y = df_tip['number_compliments']\n",
    "\n",
    "x_train, x_test, y_train, y_test = train_test_split(x, y, test_size=0.33, random_state=3)"
   ]
  },
  {
   "cell_type": "code",
   "execution_count": null,
   "metadata": {
    "collapsed": true
   },
   "outputs": [],
   "source": [
    "# try other ensemble methods (random forest=, extra tree, adaboost, gradient boosting)\n",
    "dt = DecisionTreeClassifier(random_state=3)\n",
    "bdt = BaggingClassifier(DecisionTreeClassifier(random_state=3))\n",
    "rfdt = RandomForestClassifier(random_state=3)\n",
    "etdt = ExtraTreesClassifier(random_state=3)\n",
    "abdt = AdaBoostClassifier(random_state=3)\n",
    "gbdt = GradientBoostingClassifier(random_state=3)\n",
    "\n",
    "# apply those models to the train set \n",
    "result_dt = dt.fit(x_train,y_train)\n",
    "result_bdt = bdt.fit(x_train,y_train)\n",
    "result_rfdt = rfdt.fit(x_train,y_train)\n",
    "result_etdt = etdt.fit(x_train,y_train)\n",
    "result_abdt = abdt.fit(x_train,y_train)\n",
    "result_gbdt = gbdt.fit(x_train,y_train)\n",
    "\n",
    "# print out the accuracy scores \n",
    "print \"Decision Tree Accuracy Score: \" + str(result_dt.score(x_test,y_test))\n",
    "print \"Bagging Decision Tree Accuracy Score: \" + str(result_bdt.score(x_test,y_test))\n",
    "print \"Random Forest Accuracy Score: \" + str(result_rfdt.score(x_test,y_test))\n",
    "print \"Extra Tree Accuracy Score: \" + str(result_etdt.score(x_test,y_test))\n",
    "print \"Ada Boost Accuracy Score: \" + str(result_abdt.score(x_test,y_test))\n",
    "print \"Gradient Boosting Accuracy Score: \" + str(result_gbdt.score(x_test,y_test))"
   ]
  },
  {
   "cell_type": "code",
   "execution_count": null,
   "metadata": {
    "collapsed": true
   },
   "outputs": [],
   "source": [
    "feature_importances_rf = pd.DataFrame(result_rfdt.feature_importances_, \n",
    "                                   index = review.columns,\n",
    "                                    columns=['importance']).sort_values('importance',\n",
    "                                                                        ascending=False)\n",
    "print 'Random Forest'\n",
    "print feature_importances_rf.head()\n",
    "print ''\n",
    "\n",
    "feature_importances_et = pd.DataFrame(result_etdt.feature_importances_, \n",
    "                                   index = review.columns,\n",
    "                                    columns=['importance']).sort_values('importance',\n",
    "                                                                        ascending=False)\n",
    "print 'Extra Tree'\n",
    "print feature_importances_et.head()\n",
    "print ''\n",
    "\n",
    "feature_importances_ab = pd.DataFrame(result_abdt.feature_importances_, \n",
    "                                   index = review.columns,\n",
    "                                    columns=['importance']).sort_values('importance',\n",
    "                                                                        ascending=False)\n",
    "print 'Gradient Boosting'\n",
    "print feature_importances_gb.head()\n",
    "print ''"
   ]
  },
  {
   "cell_type": "code",
   "execution_count": null,
   "metadata": {
    "collapsed": true
   },
   "outputs": [],
   "source": [
    "os.system('say \"Ugh! Lydia, I am so done with this!!\"')"
   ]
  },
  {
   "cell_type": "markdown",
   "metadata": {},
   "source": [
    "### Location Mining and Urban Planning: \n",
    "How much of a business' success is really just location, location, location? Do you see reviewers' behavior change when they travel?"
   ]
  },
  {
   "cell_type": "markdown",
   "metadata": {},
   "source": [
    "### Seasonal Trends: \n",
    "What about seasonal effects: Are HVAC contractors being reviewed just at onset of winter, and manicure salons at onset of summer? Are there more reviews for sports bars on major game days and if so, could you predict that?"
   ]
  },
  {
   "cell_type": "markdown",
   "metadata": {},
   "source": [
    "### Infer Categories: \n",
    "Do you see any non-intuitive correlations between business categories e.g., how many karaoke bars also offer Korean food, and vice versa? What businesses deserve their own subcategory (i.e., Szechuan or Hunan versus just \"Chinese restaurants\"), and can you learn this from the review text?"
   ]
  },
  {
   "cell_type": "markdown",
   "metadata": {},
   "source": [
    "### Natural Language Processing (NLP): \n",
    "How well can you guess a review's rating from its text alone? What are the most common positive and negative words used in our reviews? Are Yelpers a sarcastic bunch? And what kinds of correlations do you see between tips and reviews: could you extract tips from reviews?"
   ]
  },
  {
   "cell_type": "code",
   "execution_count": null,
   "metadata": {
    "collapsed": true
   },
   "outputs": [],
   "source": [
    "y = ndf['stars_x']\n",
    "x_train, x_test, y_train, y_test = train_test_split(x, y, test_size=0.33, random_state=3)"
   ]
  },
  {
   "cell_type": "code",
   "execution_count": 4,
   "metadata": {
    "collapsed": false
   },
   "outputs": [
    {
     "ename": "NameError",
     "evalue": "name 'x_train' is not defined",
     "output_type": "error",
     "traceback": [
      "\u001b[0;31m---------------------------------------------------------------------------\u001b[0m",
      "\u001b[0;31mNameError\u001b[0m                                 Traceback (most recent call last)",
      "\u001b[0;32m<ipython-input-4-3b6766a2b743>\u001b[0m in \u001b[0;36m<module>\u001b[0;34m()\u001b[0m\n\u001b[1;32m     11\u001b[0m \u001b[0;34m\u001b[0m\u001b[0m\n\u001b[1;32m     12\u001b[0m \u001b[0;31m# apply those models to the train set\u001b[0m\u001b[0;34m\u001b[0m\u001b[0;34m\u001b[0m\u001b[0m\n\u001b[0;32m---> 13\u001b[0;31m \u001b[0mresult_dt\u001b[0m \u001b[0;34m=\u001b[0m \u001b[0mdt\u001b[0m\u001b[0;34m.\u001b[0m\u001b[0mfit\u001b[0m\u001b[0;34m(\u001b[0m\u001b[0mx_train\u001b[0m\u001b[0;34m,\u001b[0m\u001b[0my_train\u001b[0m\u001b[0;34m)\u001b[0m\u001b[0;34m\u001b[0m\u001b[0m\n\u001b[0m\u001b[1;32m     14\u001b[0m \u001b[0mresult_bdt\u001b[0m \u001b[0;34m=\u001b[0m \u001b[0mbdt\u001b[0m\u001b[0;34m.\u001b[0m\u001b[0mfit\u001b[0m\u001b[0;34m(\u001b[0m\u001b[0mx_train\u001b[0m\u001b[0;34m,\u001b[0m\u001b[0my_train\u001b[0m\u001b[0;34m)\u001b[0m\u001b[0;34m\u001b[0m\u001b[0m\n\u001b[1;32m     15\u001b[0m \u001b[0mresult_rfdt\u001b[0m \u001b[0;34m=\u001b[0m \u001b[0mrfdt\u001b[0m\u001b[0;34m.\u001b[0m\u001b[0mfit\u001b[0m\u001b[0;34m(\u001b[0m\u001b[0mx_train\u001b[0m\u001b[0;34m,\u001b[0m\u001b[0my_train\u001b[0m\u001b[0;34m)\u001b[0m\u001b[0;34m\u001b[0m\u001b[0m\n",
      "\u001b[0;31mNameError\u001b[0m: name 'x_train' is not defined"
     ]
    }
   ],
   "source": [
    "from sklearn.tree import DecisionTreeClassifier\n",
    "from sklearn.ensemble import GradientBoostingClassifier,AdaBoostClassifier,RandomForestClassifier, BaggingClassifier, RandomForestClassifier, ExtraTreesClassifier\n",
    "\n",
    "# try other ensemble methods (random forest=, extra tree, adaboost, gradient boosting)\n",
    "dt = DecisionTreeClassifier(random_state=3)\n",
    "bdt = BaggingClassifier(DecisionTreeClassifier(random_state=3))\n",
    "rfdt = RandomForestClassifier(random_state=3)\n",
    "etdt = ExtraTreesClassifier(random_state=3)\n",
    "abdt = AdaBoostClassifier(random_state=3)\n",
    "gbdt = GradientBoostingClassifier(random_state=3)\n",
    "\n",
    "# apply those models to the train set \n",
    "result_dt = dt.fit(x_train,y_train)\n",
    "result_bdt = bdt.fit(x_train,y_train)\n",
    "result_rfdt = rfdt.fit(x_train,y_train)\n",
    "result_etdt = etdt.fit(x_train,y_train)\n",
    "result_abdt = abdt.fit(x_train,y_train)\n",
    "result_gbdt = gbdt.fit(x_train,y_train)\n",
    "\n",
    "# print out the accuracy scores \n",
    "print \"Decision Tree Accuracy Score: \" + str(result_dt.score(x_test,y_test))\n",
    "print \"Bagging Decision Tree Accuracy Score: \" + str(result_bdt.score(x_test,y_test))\n",
    "print \"Random Forest Accuracy Score: \" + str(result_rfdt.score(x_test,y_test))\n",
    "print \"Extra Tree Accuracy Score: \" + str(result_etdt.score(x_test,y_test))\n",
    "print \"Ada Boost Accuracy Score: \" + str(result_abdt.score(x_test,y_test))\n",
    "print \"Gradient Boosting Accuracy Score: \" + str(result_gbdt.score(x_test,y_test))"
   ]
  },
  {
   "cell_type": "code",
   "execution_count": null,
   "metadata": {
    "collapsed": true
   },
   "outputs": [],
   "source": []
  },
  {
   "cell_type": "markdown",
   "metadata": {},
   "source": [
    "### Changepoints and Events: \n",
    "Can you detect when things change suddenly (i.e. a business coming under new management)? Can you see when a city starts going nuts over cronuts?"
   ]
  },
  {
   "cell_type": "code",
   "execution_count": null,
   "metadata": {
    "collapsed": true
   },
   "outputs": [],
   "source": []
  },
  {
   "cell_type": "markdown",
   "metadata": {},
   "source": [
    "### Social Graph Mining: \n",
    "Can you figure out who the trend setters are and who found the best waffle joint before waffles were cool? How much influence does my social circle have on my business choices and my ratings?"
   ]
  },
  {
   "cell_type": "code",
   "execution_count": null,
   "metadata": {
    "collapsed": true
   },
   "outputs": [],
   "source": []
  },
  {
   "cell_type": "code",
   "execution_count": null,
   "metadata": {
    "collapsed": true
   },
   "outputs": [],
   "source": []
  },
  {
   "cell_type": "code",
   "execution_count": null,
   "metadata": {
    "collapsed": true
   },
   "outputs": [],
   "source": []
  },
  {
   "cell_type": "code",
   "execution_count": 134,
   "metadata": {
    "collapsed": true
   },
   "outputs": [],
   "source": [
    "import spacy\n"
   ]
  },
  {
   "cell_type": "code",
   "execution_count": null,
   "metadata": {
    "collapsed": true
   },
   "outputs": [],
   "source": []
  }
 ],
 "metadata": {
  "kernelspec": {
   "display_name": "Python 2",
   "language": "python",
   "name": "python2"
  },
  "language_info": {
   "codemirror_mode": {
    "name": "ipython",
    "version": 2
   },
   "file_extension": ".py",
   "mimetype": "text/x-python",
   "name": "python",
   "nbconvert_exporter": "python",
   "pygments_lexer": "ipython2",
   "version": "2.7.12"
  }
 },
 "nbformat": 4,
 "nbformat_minor": 0
}
