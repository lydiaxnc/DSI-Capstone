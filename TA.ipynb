{
 "cells": [
  {
   "cell_type": "markdown",
   "metadata": {},
   "source": [
    "# Capston Project | Yelp"
   ]
  },
  {
   "cell_type": "markdown",
   "metadata": {},
   "source": [
    "## 1. Pre-processing Data\n",
    "### 1.1 Import Data"
   ]
  },
  {
   "cell_type": "code",
   "execution_count": 1,
   "metadata": {
    "collapsed": false
   },
   "outputs": [],
   "source": [
    "import numpy as np\n",
    "import pandas as pd\n",
    "import os"
   ]
  },
  {
   "cell_type": "code",
   "execution_count": 2,
   "metadata": {
    "collapsed": false
   },
   "outputs": [],
   "source": [
    "# create a function that reads in json files\n",
    "def read_json(name):\n",
    "    # read the entire file into a python array\n",
    "    with open('datasets/{}.json'.format(name), 'rb') as f:\n",
    "        data = f.readlines()\n",
    "\n",
    "    # remove the trailing \"\\n\" from each line\n",
    "    data = map(lambda x: x.rstrip(), data)\n",
    "\n",
    "    # each element of 'data' is an individual JSON object.\n",
    "    # i want to convert it into an *array* of JSON objects\n",
    "    # which, in and of itself, is one large JSON object\n",
    "    # basically... add square brackets to the beginning\n",
    "    # and end, and have all the individual business JSON objects\n",
    "    # separated by a comma\n",
    "    data_json_str = \"[\" + ','.join(data) + \"]\"\n",
    "    print 'File: ' + name\n",
    "    # now, load it into pandas\n",
    "    return pd.read_json(data_json_str)\n",
    "    print 'Done!'"
   ]
  },
  {
   "cell_type": "code",
   "execution_count": 3,
   "metadata": {
    "collapsed": false
   },
   "outputs": [
    {
     "name": "stdout",
     "output_type": "stream",
     "text": [
      "File: business\n",
      "File: checkin\n",
      "File: review\n",
      "File: tip\n",
      "File: user\n"
     ]
    },
    {
     "data": {
      "text/plain": [
       "0"
      ]
     },
     "execution_count": 3,
     "metadata": {},
     "output_type": "execute_result"
    }
   ],
   "source": [
    "business = read_json('business')\n",
    "checkin = read_json('checkin')\n",
    "review = read_json('review')\n",
    "tip = read_json('tip')\n",
    "user = read_json('user')"
   ]
  },
  {
   "cell_type": "markdown",
   "metadata": {},
   "source": [
    "### 1.2 Clean Data "
   ]
  },
  {
   "cell_type": "markdown",
   "metadata": {},
   "source": [
    "- 2.2M reviews and 591K tips by 552K users for 77K businesses\n",
    "- 566K business attributes, e.g., hours, parking availability, ambience.\n",
    "- Social network of 552K users for a total of 3.5M social edges.\n",
    "- Aggregated check-ins over time for each of the 77K businesses\n",
    "- 200,000 pictures from the included businesses\n",
    "\n",
    "- 5 files: businesss(77,445 rows), checkin(55,569 rows), review(2,225,213 rows), tip(591,864 rows), user(552,339 rows) "
   ]
  },
  {
   "cell_type": "markdown",
   "metadata": {},
   "source": [
    "#### dataframe - business"
   ]
  },
  {
   "cell_type": "code",
   "execution_count": 142,
   "metadata": {
    "collapsed": false
   },
   "outputs": [
    {
     "data": {
      "text/html": [
       "<div>\n",
       "<table border=\"1\" class=\"dataframe\">\n",
       "  <thead>\n",
       "    <tr style=\"text-align: right;\">\n",
       "      <th></th>\n",
       "      <th>attributes</th>\n",
       "      <th>business_id</th>\n",
       "      <th>categories</th>\n",
       "      <th>city</th>\n",
       "      <th>full_address</th>\n",
       "      <th>hours</th>\n",
       "      <th>latitude</th>\n",
       "      <th>longitude</th>\n",
       "      <th>name</th>\n",
       "      <th>neighborhoods</th>\n",
       "      <th>...</th>\n",
       "      <th>kids</th>\n",
       "      <th>groups</th>\n",
       "      <th>alcohol</th>\n",
       "      <th>happy_hour</th>\n",
       "      <th>wifi</th>\n",
       "      <th>wheelchair</th>\n",
       "      <th>appointment_only</th>\n",
       "      <th>dancing</th>\n",
       "      <th>coatcheck</th>\n",
       "      <th>dogs</th>\n",
       "    </tr>\n",
       "  </thead>\n",
       "  <tbody>\n",
       "    <tr>\n",
       "      <th>0</th>\n",
       "      <td>{u'Take-out': True, u'Drive-Thru': False, u'Ou...</td>\n",
       "      <td>5UmKMjUEUNdYWqANhGckJw</td>\n",
       "      <td>[Fast Food, Restaurants]</td>\n",
       "      <td>Dravosburg</td>\n",
       "      <td>4734 Lebanon Church Rd\\nDravosburg, PA 15034</td>\n",
       "      <td>{u'Tuesday': {u'close': u'21:00', u'open': u'1...</td>\n",
       "      <td>40.354327</td>\n",
       "      <td>-79.900706</td>\n",
       "      <td>Mr Hoagie</td>\n",
       "      <td>[]</td>\n",
       "      <td>...</td>\n",
       "      <td>True</td>\n",
       "      <td>True</td>\n",
       "      <td>none</td>\n",
       "      <td>False</td>\n",
       "      <td>NaN</td>\n",
       "      <td>False</td>\n",
       "      <td>False</td>\n",
       "      <td>False</td>\n",
       "      <td>False</td>\n",
       "      <td>False</td>\n",
       "    </tr>\n",
       "    <tr>\n",
       "      <th>1</th>\n",
       "      <td>{u'Happy Hour': True, u'Accepts Credit Cards':...</td>\n",
       "      <td>UsFtqoBl7naz8AVUBZMjQQ</td>\n",
       "      <td>[Nightlife]</td>\n",
       "      <td>Dravosburg</td>\n",
       "      <td>202 McClure St\\nDravosburg, PA 15034</td>\n",
       "      <td>{}</td>\n",
       "      <td>40.350553</td>\n",
       "      <td>-79.886814</td>\n",
       "      <td>Clancy's Pub</td>\n",
       "      <td>[]</td>\n",
       "      <td>...</td>\n",
       "      <td>False</td>\n",
       "      <td>True</td>\n",
       "      <td>NaN</td>\n",
       "      <td>True</td>\n",
       "      <td>NaN</td>\n",
       "      <td>False</td>\n",
       "      <td>False</td>\n",
       "      <td>False</td>\n",
       "      <td>False</td>\n",
       "      <td>False</td>\n",
       "    </tr>\n",
       "    <tr>\n",
       "      <th>2</th>\n",
       "      <td>{}</td>\n",
       "      <td>3eu6MEFlq2Dg7bQh8QbdOg</td>\n",
       "      <td>[Auto Repair, Automotive]</td>\n",
       "      <td>Dravosburg</td>\n",
       "      <td>1 Ravine St\\nDravosburg, PA 15034</td>\n",
       "      <td>{}</td>\n",
       "      <td>40.350956</td>\n",
       "      <td>-79.889059</td>\n",
       "      <td>Joe Cislo's Auto</td>\n",
       "      <td>[]</td>\n",
       "      <td>...</td>\n",
       "      <td>False</td>\n",
       "      <td>False</td>\n",
       "      <td>NaN</td>\n",
       "      <td>False</td>\n",
       "      <td>NaN</td>\n",
       "      <td>False</td>\n",
       "      <td>False</td>\n",
       "      <td>False</td>\n",
       "      <td>False</td>\n",
       "      <td>False</td>\n",
       "    </tr>\n",
       "    <tr>\n",
       "      <th>3</th>\n",
       "      <td>{u'Good for Kids': True}</td>\n",
       "      <td>cE27W9VPgO88Qxe4ol6y_g</td>\n",
       "      <td>[Active Life, Mini Golf, Golf]</td>\n",
       "      <td>Bethel Park</td>\n",
       "      <td>1530 Hamilton Rd\\nBethel Park, PA 15234</td>\n",
       "      <td>{}</td>\n",
       "      <td>40.354115</td>\n",
       "      <td>-80.014660</td>\n",
       "      <td>Cool Springs Golf Center</td>\n",
       "      <td>[]</td>\n",
       "      <td>...</td>\n",
       "      <td>True</td>\n",
       "      <td>False</td>\n",
       "      <td>NaN</td>\n",
       "      <td>False</td>\n",
       "      <td>NaN</td>\n",
       "      <td>False</td>\n",
       "      <td>False</td>\n",
       "      <td>False</td>\n",
       "      <td>False</td>\n",
       "      <td>False</td>\n",
       "    </tr>\n",
       "    <tr>\n",
       "      <th>4</th>\n",
       "      <td>{u'Accepts Credit Cards': False, u'Price Range...</td>\n",
       "      <td>HZdLhv6COCleJMo7nPl-RA</td>\n",
       "      <td>[Shopping, Home Services, Internet Service Pro...</td>\n",
       "      <td>Pittsburgh</td>\n",
       "      <td>301 South Hills Village\\nPittsburgh, PA 15241</td>\n",
       "      <td>{u'Monday': {u'close': u'21:00', u'open': u'10...</td>\n",
       "      <td>40.357620</td>\n",
       "      <td>-80.059980</td>\n",
       "      <td>Verizon</td>\n",
       "      <td>[]</td>\n",
       "      <td>...</td>\n",
       "      <td>False</td>\n",
       "      <td>False</td>\n",
       "      <td>NaN</td>\n",
       "      <td>False</td>\n",
       "      <td>NaN</td>\n",
       "      <td>False</td>\n",
       "      <td>False</td>\n",
       "      <td>False</td>\n",
       "      <td>False</td>\n",
       "      <td>False</td>\n",
       "    </tr>\n",
       "  </tbody>\n",
       "</table>\n",
       "<p>5 rows × 38 columns</p>\n",
       "</div>"
      ],
      "text/plain": [
       "                                          attributes             business_id  \\\n",
       "0  {u'Take-out': True, u'Drive-Thru': False, u'Ou...  5UmKMjUEUNdYWqANhGckJw   \n",
       "1  {u'Happy Hour': True, u'Accepts Credit Cards':...  UsFtqoBl7naz8AVUBZMjQQ   \n",
       "2                                                 {}  3eu6MEFlq2Dg7bQh8QbdOg   \n",
       "3                           {u'Good for Kids': True}  cE27W9VPgO88Qxe4ol6y_g   \n",
       "4  {u'Accepts Credit Cards': False, u'Price Range...  HZdLhv6COCleJMo7nPl-RA   \n",
       "\n",
       "                                          categories         city  \\\n",
       "0                           [Fast Food, Restaurants]   Dravosburg   \n",
       "1                                        [Nightlife]   Dravosburg   \n",
       "2                          [Auto Repair, Automotive]   Dravosburg   \n",
       "3                     [Active Life, Mini Golf, Golf]  Bethel Park   \n",
       "4  [Shopping, Home Services, Internet Service Pro...   Pittsburgh   \n",
       "\n",
       "                                    full_address  \\\n",
       "0   4734 Lebanon Church Rd\\nDravosburg, PA 15034   \n",
       "1           202 McClure St\\nDravosburg, PA 15034   \n",
       "2              1 Ravine St\\nDravosburg, PA 15034   \n",
       "3        1530 Hamilton Rd\\nBethel Park, PA 15234   \n",
       "4  301 South Hills Village\\nPittsburgh, PA 15241   \n",
       "\n",
       "                                               hours   latitude  longitude  \\\n",
       "0  {u'Tuesday': {u'close': u'21:00', u'open': u'1...  40.354327 -79.900706   \n",
       "1                                                 {}  40.350553 -79.886814   \n",
       "2                                                 {}  40.350956 -79.889059   \n",
       "3                                                 {}  40.354115 -80.014660   \n",
       "4  {u'Monday': {u'close': u'21:00', u'open': u'10...  40.357620 -80.059980   \n",
       "\n",
       "                       name neighborhoods  ...     kids  groups  alcohol  \\\n",
       "0                 Mr Hoagie            []  ...     True    True     none   \n",
       "1              Clancy's Pub            []  ...    False    True      NaN   \n",
       "2          Joe Cislo's Auto            []  ...    False   False      NaN   \n",
       "3  Cool Springs Golf Center            []  ...     True   False      NaN   \n",
       "4                   Verizon            []  ...    False   False      NaN   \n",
       "\n",
       "  happy_hour wifi wheelchair appointment_only dancing coatcheck   dogs  \n",
       "0      False  NaN      False            False   False     False  False  \n",
       "1       True  NaN      False            False   False     False  False  \n",
       "2      False  NaN      False            False   False     False  False  \n",
       "3      False  NaN      False            False   False     False  False  \n",
       "4      False  NaN      False            False   False     False  False  \n",
       "\n",
       "[5 rows x 38 columns]"
      ]
     },
     "execution_count": 142,
     "metadata": {},
     "output_type": "execute_result"
    }
   ],
   "source": [
    "# check business dataframe\n",
    "business.head(5)"
   ]
  },
  {
   "cell_type": "code",
   "execution_count": 4,
   "metadata": {
    "collapsed": false
   },
   "outputs": [],
   "source": [
    "# check attribute columns (How many attributes and how many resturants has those attributes)\n",
    "attributes = []\n",
    "for x in range(len(business.attributes)):\n",
    "    attributes.extend(business.attributes[x].keys())"
   ]
  },
  {
   "cell_type": "code",
   "execution_count": 5,
   "metadata": {
    "collapsed": false
   },
   "outputs": [
    {
     "name": "stdout",
     "output_type": "stream",
     "text": [
      "36\n"
     ]
    },
    {
     "data": {
      "text/plain": [
       "[(u'Accepts Credit Cards', 56528),\n",
       " (u'Price Range', 50070),\n",
       " (u'Parking', 44617),\n",
       " (u'Good for Kids', 30328),\n",
       " (u'Outdoor Seating', 26601),\n",
       " (u'Good For Groups', 26011),\n",
       " (u'Delivery', 23624),\n",
       " (u'Take-out', 23601),\n",
       " (u'Attire', 23487),\n",
       " (u'Alcohol', 23328),\n",
       " (u'Takes Reservations', 23072),\n",
       " (u'Has TV', 22703),\n",
       " (u'Wheelchair Accessible', 22511),\n",
       " (u'Good For', 22080),\n",
       " (u'Wi-Fi', 21624),\n",
       " (u'Ambience', 21447),\n",
       " (u'Waiter Service', 21332),\n",
       " (u'Noise Level', 21305),\n",
       " (u'Caters', 15852),\n",
       " (u'By Appointment Only', 11744),\n",
       " (u'Smoking', 4797),\n",
       " (u'Happy Hour', 4572),\n",
       " (u'Good For Dancing', 4449),\n",
       " (u'Coat Check', 4398),\n",
       " (u'Music', 4323),\n",
       " (u'Dogs Allowed', 3931),\n",
       " (u'Drive-Thru', 3325),\n",
       " (u'BYOB/Corkage', 1315),\n",
       " (u'BYOB', 849),\n",
       " (u'Corkage', 631),\n",
       " (u'Accepts Insurance', 608),\n",
       " (u'Hair Types Specialized In', 441),\n",
       " (u'Order at Counter', 376),\n",
       " (u'Open 24 Hours', 321),\n",
       " (u'Ages Allowed', 253),\n",
       " (u'Dietary Restrictions', 156)]"
      ]
     },
     "execution_count": 5,
     "metadata": {},
     "output_type": "execute_result"
    }
   ],
   "source": [
    "# check how many unique attribute and how many business contains those attributes.\n",
    "from collections import Counter\n",
    "import operator\n",
    "attribute_sort = sorted(Counter(attributes).items(), key=operator.itemgetter(1), reverse=True)\n",
    "print len(attribute_sort)\n",
    "attribute_sort"
   ]
  },
  {
   "cell_type": "code",
   "execution_count": 6,
   "metadata": {
    "collapsed": false
   },
   "outputs": [
    {
     "name": "stdout",
     "output_type": "stream",
     "text": [
      "CPU times: user 10 µs, sys: 19 µs, total: 29 µs\n",
      "Wall time: 39.1 µs\n"
     ]
    }
   ],
   "source": [
    "# unpack attributes from the attrribute columns \n",
    "%time\n",
    "#  (u'Accepts Credit Cards', 56528)\n",
    "credit_card = []\n",
    "for x in range(len(business.attributes)):\n",
    "    try: \n",
    "        credit_card.append(business.attributes[x]['Accepts Credit Cards'])\n",
    "    except: \n",
    "        credit_card.append(False)\n",
    "business['credit_card'] = credit_card\n",
    "\n",
    "#  (u'Price Range', 50070)\n",
    "price = []\n",
    "for x in range(len(business.attributes)):\n",
    "    try: \n",
    "        price.append(business.attributes[x]['Price Range'])\n",
    "    except: \n",
    "        price.append('unknown')\n",
    "business['price'] =  price\n",
    "\n",
    "#  (u'Parking', 44617)\n",
    "parking = []\n",
    "for x in range(len(business.attributes)):\n",
    "    try: \n",
    "        parking.append(business.attributes[x]['Parking'])\n",
    "    except: \n",
    "        parking.append(False)\n",
    "business['parking'] = parking \n",
    "\n",
    "#  (u'Good for Kids', 30328)\n",
    "kids = []\n",
    "for x in range(len(business.attributes)):\n",
    "    try: \n",
    "        kids.append(business.attributes[x]['Good for Kids'])\n",
    "    except: \n",
    "        kids.append('unknown')\n",
    "business['kids'] = kids\n",
    "\n",
    "#  (u'Outdoor Seating', 26601)\n",
    "outdoor_seating = []\n",
    "for x in range(len(business.attributes)):\n",
    "    try: \n",
    "        outdoor_seating.append(business.attributes[x]['Outdoor Seating'])\n",
    "    except: \n",
    "        outdoor_seating.append('unknown')  \n",
    "business['ourdoor_seating'] = outdoor_seating \n",
    "\n",
    "#  (u'Good For Groups', 26011)\n",
    "groups = []\n",
    "for x in range(len(business.attributes)):\n",
    "    try: \n",
    "        groups.append(business.attributes[x]['Good For Groups'])\n",
    "    except: \n",
    "        groups.append('unknown')\n",
    "business['groups'] = groups\n",
    "\n",
    "#  (u'Delivery', 23624)\n",
    "delivery = []\n",
    "for x in range(len(business.attributes)):\n",
    "    try: \n",
    "        delivery.append(business.attributes[x]['Delivery'])\n",
    "    except: \n",
    "        delivery.append(False)\n",
    "business['delivery'] = delivery \n",
    "\n",
    "#  (u'Take-out', 23601)\n",
    "take_out = []\n",
    "for x in range(len(business.attributes)):\n",
    "    try:\n",
    "        take_out.append(business.attributes[x]['Take-out'])\n",
    "    except: \n",
    "        take_out.append(False)\n",
    "business['take_out'] = take_out\n",
    "\n",
    "#  (u'Attire', 23487)\n",
    "attire = []\n",
    "for x in range(len(business.attributes)):\n",
    "    try: \n",
    "        attire.append(business.attributes[x]['Attire'])\n",
    "    except: \n",
    "        attire.append('unknown')\n",
    "business['attire'] = attire\n",
    "\n",
    "#  (u'Alcohol', 23328)\n",
    "alcohol = []\n",
    "for x in range(len(business.attributes)):\n",
    "    try: \n",
    "        alcohol.append(business.attributes[x]['Alcohol'])\n",
    "    except:\n",
    "        alcohol.append('unknown')\n",
    "business['alcohol'] = alcohol \n",
    "\n",
    "#  (u'Takes Reservations', 23072)\n",
    "reservation = []\n",
    "for x in range(len(business.attributes)):\n",
    "    try: \n",
    "        reservation.append(business.attributes[x]['Takes Reservations'])\n",
    "    except: \n",
    "        reservation.append('unknown')\n",
    "business['reservation'] = reservation\n",
    "\n",
    "#  (u'Has TV', 22703)\n",
    "TV = []\n",
    "for x in range(len(business.attributes)):\n",
    "    try: \n",
    "        TV.append(business.attributes[x]['Has TV'])\n",
    "    except: \n",
    "        TV.append('unknown')\n",
    "business['tv'] = TV\n",
    "\n",
    "#  (u'Wheelchair Accessible', 22511)\n",
    "wheelchair = []\n",
    "for x in range(len(business.attributes)):\n",
    "    try: \n",
    "        wheelchair.append(business.attributes[x]['Wheelchair Accessible'])\n",
    "    except: \n",
    "        wheelchair.append(False)\n",
    "business['wheelchair'] = wheelchair\n",
    "\n",
    "#  (u'Wi-Fi', 21624)\n",
    "wifi = []\n",
    "for x in range(len(business.attributes)):\n",
    "    try: \n",
    "        wifi.append(business.attributes[x]['Wi-Fi'])\n",
    "    except: \n",
    "        wifi.append('unknown')\n",
    "business['wifi'] = wifi\n",
    "\n",
    "#  (u'Waiter Service', 21332)\n",
    "waiter = []\n",
    "for x in range(len(business.attributes)):\n",
    "    try: \n",
    "        waiter.append(business.attributes[x]['Waiter Service'])\n",
    "    except: \n",
    "        waiter.append('unknown')\n",
    "business['waiter'] = waiter\n",
    "\n",
    "#  (u'Noise Level', 21305)\n",
    "noise = []\n",
    "for x in range(len(business.attributes)):\n",
    "    try: \n",
    "        noise.append(business.attributes[x]['Noise Level'])\n",
    "    except: \n",
    "        noise.append('unknown')\n",
    "business['noise'] = noise \n",
    "              \n",
    "#  (u'Caters', 15852)       \n",
    "cater = []\n",
    "for x in range(len(business.attributes)):\n",
    "    try: \n",
    "        cater.append(business.attributes[x]['Caters'])\n",
    "    except: \n",
    "        cater.append(False)\n",
    "business['cater'] = cater\n",
    "\n",
    "#  (u'By Appointment Only', 11744)\n",
    "appointment_only = []\n",
    "for x in range(len(business.attributes)):\n",
    "    try: \n",
    "        appointment_only.append(business.attributes[x]['By Appointment Only'])\n",
    "    except: \n",
    "        appointment_only.append(False)\n",
    "business['appointment_only'] = appointment_only\n",
    "\n",
    "#  (u'Happy Hour', 4572)\n",
    "happy_hour = []\n",
    "for x in range(len(business.attributes)):\n",
    "    try: \n",
    "        happy_hour.append(business.attributes[x]['Happy Hour'])\n",
    "    except: \n",
    "        happy_hour.append(False)\n",
    "business['happy_hour'] = happy_hour\n",
    "\n",
    "#  (u'Good For Dancing', 4449)\n",
    "dancing = []\n",
    "for x in range(len(business.attributes)):\n",
    "    try: \n",
    "        dancing.append(business.attributes[x]['Good For Dancing'])\n",
    "    except: \n",
    "        dancing.append(False)\n",
    "business['dancing'] = dancing\n",
    "\n",
    "#  (u'Coat Check', 4398)\n",
    "coatcheck = []\n",
    "for x in range(len(business.attributes)):\n",
    "    try: \n",
    "        coatcheck.append(business.attributes[x]['Coat Check'])\n",
    "    except: \n",
    "        coatcheck.append('unknown')\n",
    "business['coatcheck'] = coatcheck\n",
    "\n",
    "#  (u'Dogs Allowed', 3931)\n",
    "dogs = []\n",
    "for x in range(len(business.attributes)):\n",
    "    try: \n",
    "        dogs.append(business.attributes[x]['Dogs Allowed'])\n",
    "    except: \n",
    "        dogs.append(False)\n",
    "business['dogs'] = dogs\n",
    "\n",
    "#  (u'Drive-Thru', 3325)\n",
    "drive_thru = []\n",
    "for x in range(len(business.attributes)):\n",
    "    try: \n",
    "        drive_thru.append(business.attributes[x]['Drive-Thru'])\n",
    "    except: \n",
    "        drive_thru.append(False)\n",
    "business['drive_thru'] = drive_thru\n"
   ]
  },
  {
   "cell_type": "code",
   "execution_count": 7,
   "metadata": {
    "collapsed": false
   },
   "outputs": [],
   "source": [
    "# clean up parking column \n",
    "parking = []\n",
    "for x in range(len(business.parking)):\n",
    "    try:\n",
    "        if True in business.parking[x].values():\n",
    "            parking.append(True)\n",
    "        else:\n",
    "            parking.append(False)\n",
    "    except: \n",
    "        parking.append('Unknown')\n",
    "business['parking'] = parking"
   ]
  },
  {
   "cell_type": "code",
   "execution_count": 34,
   "metadata": {
    "collapsed": false
   },
   "outputs": [
    {
     "data": {
      "text/plain": [
       "77445"
      ]
     },
     "execution_count": 34,
     "metadata": {},
     "output_type": "execute_result"
    }
   ],
   "source": [
    "sum(business.parking.value_counts())"
   ]
  },
  {
   "cell_type": "markdown",
   "metadata": {},
   "source": [
    "#### dataframe - review"
   ]
  },
  {
   "cell_type": "code",
   "execution_count": 9,
   "metadata": {
    "collapsed": false
   },
   "outputs": [
    {
     "data": {
      "text/plain": [
       "{u'cool': 0, u'funny': 0, u'useful': 0}"
      ]
     },
     "execution_count": 9,
     "metadata": {},
     "output_type": "execute_result"
    }
   ],
   "source": [
    "review.votes[0]['cool']\n",
    "review.votes[0]"
   ]
  },
  {
   "cell_type": "code",
   "execution_count": 10,
   "metadata": {
    "collapsed": false
   },
   "outputs": [],
   "source": [
    "cool = []\n",
    "funny = []\n",
    "useful = []\n",
    "for x in range(len(review.votes)): \n",
    "    cool.append(review.votes[x]['cool'])\n",
    "    funny.append(review.votes[x]['funny'])\n",
    "    useful.append(review.votes[x]['useful'])"
   ]
  },
  {
   "cell_type": "code",
   "execution_count": 11,
   "metadata": {
    "collapsed": false
   },
   "outputs": [],
   "source": [
    "review['cool'] = cool \n",
    "review['funny'] = funny \n",
    "review['useful'] = useful "
   ]
  },
  {
   "cell_type": "code",
   "execution_count": 50,
   "metadata": {
    "collapsed": false
   },
   "outputs": [
    {
     "data": {
      "text/plain": [
       "Index([u'business_id',        u'date',   u'review_id',       u'stars',\n",
       "              u'text',        u'type',     u'user_id',       u'votes',\n",
       "              u'cool',       u'funny',      u'useful'],\n",
       "      dtype='object')"
      ]
     },
     "execution_count": 50,
     "metadata": {},
     "output_type": "execute_result"
    }
   ],
   "source": [
    "review.columns"
   ]
  },
  {
   "cell_type": "code",
   "execution_count": 51,
   "metadata": {
    "collapsed": false
   },
   "outputs": [
    {
     "name": "stdout",
     "output_type": "stream",
     "text": [
      "<class 'pandas.core.frame.DataFrame'>\n",
      "Int64Index: 2225213 entries, 0 to 2225212\n",
      "Data columns (total 11 columns):\n",
      "business_id    object\n",
      "date           datetime64[ns]\n",
      "review_id      object\n",
      "stars          int64\n",
      "text           object\n",
      "type           object\n",
      "user_id        object\n",
      "votes          object\n",
      "cool           int64\n",
      "funny          int64\n",
      "useful         int64\n",
      "dtypes: datetime64[ns](1), int64(4), object(6)\n",
      "memory usage: 203.7+ MB\n"
     ]
    }
   ],
   "source": [
    "review.info()"
   ]
  },
  {
   "cell_type": "markdown",
   "metadata": {},
   "source": [
    "#### dataframe - user"
   ]
  },
  {
   "cell_type": "code",
   "execution_count": 13,
   "metadata": {
    "collapsed": false
   },
   "outputs": [],
   "source": [
    "cool = []\n",
    "funny = []\n",
    "useful = []\n",
    "for x in range(len(user.votes)): \n",
    "    cool.append(user.votes[x]['cool'])\n",
    "    funny.append(user.votes[x]['funny'])\n",
    "    useful.append(user.votes[x]['useful'])\n",
    "user['cool'] = cool \n",
    "user['funny'] = funny \n",
    "user['useful'] = useful "
   ]
  },
  {
   "cell_type": "code",
   "execution_count": 14,
   "metadata": {
    "collapsed": false
   },
   "outputs": [
    {
     "data": {
      "text/plain": [
       "202"
      ]
     },
     "execution_count": 14,
     "metadata": {},
     "output_type": "execute_result"
    }
   ],
   "source": [
    "len(user.friends[0])"
   ]
  },
  {
   "cell_type": "code",
   "execution_count": 15,
   "metadata": {
    "collapsed": false
   },
   "outputs": [],
   "source": [
    "number_friends = []\n",
    "for x in range(len(user.friends)): \n",
    "    number_friends.append(len(user.friends[x]))"
   ]
  },
  {
   "cell_type": "code",
   "execution_count": 16,
   "metadata": {
    "collapsed": true
   },
   "outputs": [],
   "source": [
    "user['number_friends'] = number_friends"
   ]
  },
  {
   "cell_type": "code",
   "execution_count": 17,
   "metadata": {
    "collapsed": false
   },
   "outputs": [],
   "source": [
    "elites = []\n",
    "for x in range(len(user.elite)):     \n",
    "    elites.append(len(user.elite[x]))"
   ]
  },
  {
   "cell_type": "code",
   "execution_count": 18,
   "metadata": {
    "collapsed": true
   },
   "outputs": [],
   "source": [
    "user['elites'] = elites"
   ]
  },
  {
   "cell_type": "code",
   "execution_count": 19,
   "metadata": {
    "collapsed": false
   },
   "outputs": [],
   "source": [
    "compliment = []\n",
    "number_compliments = []\n",
    "for l in range(len(user.compliments)):\n",
    "    total = 0\n",
    "    temp = []\n",
    "    for x, y in user.compliments[l].items():\n",
    "        total = y + total\n",
    "        temp.append(x)\n",
    "    number_compliments.append(total)\n",
    "    compliment.append(temp)"
   ]
  },
  {
   "cell_type": "code",
   "execution_count": 20,
   "metadata": {
    "collapsed": false
   },
   "outputs": [],
   "source": [
    "user['compliment'] = compliment\n",
    "user['number_compliments'] = number_compliments"
   ]
  },
  {
   "cell_type": "code",
   "execution_count": 21,
   "metadata": {
    "collapsed": false
   },
   "outputs": [],
   "source": [
    "number_friends = []\n",
    "for x in user.friends: \n",
    "    number_friends.append(len(x))\n",
    "user['number_friends'] = number_friends"
   ]
  },
  {
   "cell_type": "code",
   "execution_count": 35,
   "metadata": {
    "collapsed": false
   },
   "outputs": [],
   "source": [
    "comp = []\n",
    "for x in range(len(user.compliments)):\n",
    "    comp.extend(user.compliments[x].keys())"
   ]
  },
  {
   "cell_type": "code",
   "execution_count": 36,
   "metadata": {
    "collapsed": false
   },
   "outputs": [
    {
     "name": "stdout",
     "output_type": "stream",
     "text": [
      "11\n"
     ]
    },
    {
     "data": {
      "text/plain": [
       "[(u'plain', 109708),\n",
       " (u'cool', 92487),\n",
       " (u'note', 90908),\n",
       " (u'writer', 72650),\n",
       " (u'hot', 68111),\n",
       " (u'funny', 63738),\n",
       " (u'more', 52877),\n",
       " (u'photos', 36815),\n",
       " (u'cute', 24197),\n",
       " (u'profile', 22286),\n",
       " (u'list', 12273)]"
      ]
     },
     "execution_count": 36,
     "metadata": {},
     "output_type": "execute_result"
    }
   ],
   "source": [
    "from collections import Counter\n",
    "import operator\n",
    "comp_sort = sorted(Counter(comp).items(), key=operator.itemgetter(1), reverse=True)\n",
    "print len(comp_sort)\n",
    "comp_sort"
   ]
  },
  {
   "cell_type": "code",
   "execution_count": 44,
   "metadata": {
    "collapsed": true
   },
   "outputs": [],
   "source": [
    "# (u'plain', 109708) #  (u'note', 90908)#  (u'writer', 72650)--> just a note, could be anything \n",
    "#  (u'cool', 92487)\n",
    "cool_user = []\n",
    "for x in range(len(user.compliments)):\n",
    "    try: \n",
    "        cool_user.append(user.compliments[x]['cool'])\n",
    "    except: \n",
    "        cool_user.append(0)\n",
    "user['cool_user'] = cool_user\n",
    "\n",
    "#  (u'hot', 68111)\n",
    "hot_user = []\n",
    "for x in range(len(user.compliments)):\n",
    "    try: \n",
    "        hot_user.append(user.compliments[x]['hot'])\n",
    "    except: \n",
    "        hot_user.append(0)\n",
    "user['hot_user'] = hot_user\n",
    "\n",
    "#  (u'funny', 63738)\n",
    "funny_user = []\n",
    "for x in range(len(user.compliments)):\n",
    "    try: \n",
    "        funny_user.append(user.compliments[x]['funny'])\n",
    "    except: \n",
    "        funny_user.append(0)\n",
    "user['funny_user'] = funny_user\n",
    "\n",
    "#  (u'more', 52877)\n",
    "pop_user = []\n",
    "for x in range(len(user.compliments)):\n",
    "    try: \n",
    "        pop_user.append(user.compliments[x]['more'])\n",
    "    except: \n",
    "        pop_user.append(0)\n",
    "user['pop_user'] = pop_user\n",
    "\n",
    "#  (u'photos', 36815) + (u'cute', 24197) (great photos + cute photos)\n",
    "photo_user = []\n",
    "for x in range(len(user.compliments)):\n",
    "    try: \n",
    "        photo_user.append(user.compliments[x]['photos'] + user.compliments[x]['photos'])\n",
    "    except:\n",
    "        photo_user.append(0)\n",
    "user['photo_user'] = photo_user\n",
    "\n",
    "#  (u'list', 12273)\n",
    "list_user = []\n",
    "for x in range(len(user.compliments)):\n",
    "    try: \n",
    "        list_user.append(user.compliments[x]['list'])\n",
    "    except: \n",
    "        list_user.append(0)\n",
    "user['list_user'] = list_user\n"
   ]
  },
  {
   "cell_type": "code",
   "execution_count": 61,
   "metadata": {
    "collapsed": false
   },
   "outputs": [
    {
     "data": {
      "text/html": [
       "<div>\n",
       "<table border=\"1\" class=\"dataframe\">\n",
       "  <thead>\n",
       "    <tr style=\"text-align: right;\">\n",
       "      <th></th>\n",
       "      <th>business_id</th>\n",
       "      <th>date</th>\n",
       "      <th>likes</th>\n",
       "      <th>text</th>\n",
       "      <th>type</th>\n",
       "      <th>user_id</th>\n",
       "    </tr>\n",
       "  </thead>\n",
       "  <tbody>\n",
       "    <tr>\n",
       "      <th>0</th>\n",
       "      <td>cE27W9VPgO88Qxe4ol6y_g</td>\n",
       "      <td>2013-04-18</td>\n",
       "      <td>0</td>\n",
       "      <td>Don't waste your time.</td>\n",
       "      <td>tip</td>\n",
       "      <td>-6rEfobYjMxpUWLNxszaxQ</td>\n",
       "    </tr>\n",
       "    <tr>\n",
       "      <th>1</th>\n",
       "      <td>mVHrayjG3uZ_RLHkLj-AMg</td>\n",
       "      <td>2013-01-06</td>\n",
       "      <td>1</td>\n",
       "      <td>Your GPS will not allow you to find this place...</td>\n",
       "      <td>tip</td>\n",
       "      <td>EZ0r9dKKtEGVx2CdnowPCw</td>\n",
       "    </tr>\n",
       "    <tr>\n",
       "      <th>2</th>\n",
       "      <td>KayYbHCt-RkbGcPdGOThNg</td>\n",
       "      <td>2013-12-03</td>\n",
       "      <td>0</td>\n",
       "      <td>Great drink specials!</td>\n",
       "      <td>tip</td>\n",
       "      <td>xb6zEQCw9I-Gl0g06e1KsQ</td>\n",
       "    </tr>\n",
       "    <tr>\n",
       "      <th>3</th>\n",
       "      <td>KayYbHCt-RkbGcPdGOThNg</td>\n",
       "      <td>2015-07-08</td>\n",
       "      <td>0</td>\n",
       "      <td>Friendly staff, good food, great beer selectio...</td>\n",
       "      <td>tip</td>\n",
       "      <td>QawZN4PSW7ng_9SP7pjsVQ</td>\n",
       "    </tr>\n",
       "    <tr>\n",
       "      <th>4</th>\n",
       "      <td>1_lU0-eSWJCRvNGk78Zh9Q</td>\n",
       "      <td>2015-10-25</td>\n",
       "      <td>0</td>\n",
       "      <td>Beautiful restoration.</td>\n",
       "      <td>tip</td>\n",
       "      <td>MLQre1nvUtW-RqMTc4iC9A</td>\n",
       "    </tr>\n",
       "  </tbody>\n",
       "</table>\n",
       "</div>"
      ],
      "text/plain": [
       "              business_id       date  likes  \\\n",
       "0  cE27W9VPgO88Qxe4ol6y_g 2013-04-18      0   \n",
       "1  mVHrayjG3uZ_RLHkLj-AMg 2013-01-06      1   \n",
       "2  KayYbHCt-RkbGcPdGOThNg 2013-12-03      0   \n",
       "3  KayYbHCt-RkbGcPdGOThNg 2015-07-08      0   \n",
       "4  1_lU0-eSWJCRvNGk78Zh9Q 2015-10-25      0   \n",
       "\n",
       "                                                text type  \\\n",
       "0                             Don't waste your time.  tip   \n",
       "1  Your GPS will not allow you to find this place...  tip   \n",
       "2                              Great drink specials!  tip   \n",
       "3  Friendly staff, good food, great beer selectio...  tip   \n",
       "4                             Beautiful restoration.  tip   \n",
       "\n",
       "                  user_id  \n",
       "0  -6rEfobYjMxpUWLNxszaxQ  \n",
       "1  EZ0r9dKKtEGVx2CdnowPCw  \n",
       "2  xb6zEQCw9I-Gl0g06e1KsQ  \n",
       "3  QawZN4PSW7ng_9SP7pjsVQ  \n",
       "4  MLQre1nvUtW-RqMTc4iC9A  "
      ]
     },
     "execution_count": 61,
     "metadata": {},
     "output_type": "execute_result"
    }
   ],
   "source": [
    "tip.head()"
   ]
  },
  {
   "cell_type": "code",
   "execution_count": null,
   "metadata": {
    "collapsed": true
   },
   "outputs": [],
   "source": []
  },
  {
   "cell_type": "markdown",
   "metadata": {},
   "source": [
    "### 1.3 merge and save dataframes"
   ]
  },
  {
   "cell_type": "markdown",
   "metadata": {},
   "source": [
    "#### review "
   ]
  },
  {
   "cell_type": "code",
   "execution_count": null,
   "metadata": {
    "collapsed": true
   },
   "outputs": [],
   "source": [
    "review_sample = review.sample(frac=0.001, replace=False, weights = 'stars')"
   ]
  },
  {
   "cell_type": "code",
   "execution_count": 48,
   "metadata": {
    "collapsed": false
   },
   "outputs": [],
   "source": [
    "temp = business.merge(review_sample, left_on='business_id', right_on = 'business_id', how = 'inner')\n",
    "df = temp.merge(user, left_on='user_id', right_on = 'user_id', how = 'left')\n",
    "df.to_csv('merged_tip_sample.csv', encoding='utf-8')"
   ]
  },
  {
   "cell_type": "code",
   "execution_count": 55,
   "metadata": {
    "collapsed": false
   },
   "outputs": [],
   "source": [
    "temp = business.merge(review, left_on='business_id', right_on = 'business_id', how = 'inner')\n",
    "full_df = temp.merge(user, left_on='user_id', right_on = 'user_id', how = 'left')\n",
    "full_df.to_csv('merged_review.csv', encoding='utf-8')\n",
    "os.system('say \"Hi! I am done!\"')"
   ]
  },
  {
   "cell_type": "markdown",
   "metadata": {
    "collapsed": true
   },
   "source": [
    "#### Tips"
   ]
  },
  {
   "cell_type": "code",
   "execution_count": null,
   "metadata": {
    "collapsed": false
   },
   "outputs": [],
   "source": [
    "tip_sample = tip.sample(frac=0.01, replace=False, weights = 'business_id')"
   ]
  },
  {
   "cell_type": "code",
   "execution_count": null,
   "metadata": {
    "collapsed": true
   },
   "outputs": [],
   "source": [
    "temp = business.merge(tip_sample, left_on='business_id', right_on = 'business_id', how = 'inner')\n",
    "df_tip = temp.merge(user, left_on='user_id', right_on = 'user_id', how = 'left')\n",
    "df_tip.to_csv('merged_tip_sample.csv', encoding='utf-8')"
   ]
  },
  {
   "cell_type": "code",
   "execution_count": 58,
   "metadata": {
    "collapsed": true
   },
   "outputs": [],
   "source": [
    "temp = business.merge(tip, left_on='business_id', right_on = 'business_id', how = 'inner')\n",
    "full_df_tip = temp.merge(user, left_on='user_id', right_on = 'user_id', how = 'left')\n",
    "full_df_tip.to_csv('merged_tip.csv', encoding='utf-8')"
   ]
  },
  {
   "cell_type": "code",
   "execution_count": null,
   "metadata": {
    "collapsed": true
   },
   "outputs": [],
   "source": []
  },
  {
   "cell_type": "code",
   "execution_count": null,
   "metadata": {
    "collapsed": true
   },
   "outputs": [],
   "source": []
  },
  {
   "cell_type": "markdown",
   "metadata": {},
   "source": [
    "## 2. EDA"
   ]
  },
  {
   "cell_type": "code",
   "execution_count": 21,
   "metadata": {
    "collapsed": false
   },
   "outputs": [],
   "source": [
    "import matplotlib.pyplot as plt \n",
    "%matplotlib inline \n",
    "plt.style.use('fivethirtyeight')\n",
    "import seaborn as sns"
   ]
  },
  {
   "cell_type": "code",
   "execution_count": null,
   "metadata": {
    "collapsed": false
   },
   "outputs": [],
   "source": [
    "sns.pairplot(review)"
   ]
  },
  {
   "cell_type": "code",
   "execution_count": 165,
   "metadata": {
    "collapsed": false
   },
   "outputs": [
    {
     "data": {
      "text/plain": [
       "<matplotlib.axes._subplots.AxesSubplot at 0x1dfc17110>"
      ]
     },
     "execution_count": 165,
     "metadata": {},
     "output_type": "execute_result"
    },
    {
     "data": {
      "image/png": "[encoded data removed]",
      "text/plain": [
       "<matplotlib.figure.Figure at 0x1dfcbbd50>"
      ]
     },
     "metadata": {},
     "output_type": "display_data"
    }
   ],
   "source": [
    "review.stars.hist()"
   ]
  },
  {
   "cell_type": "code",
   "execution_count": null,
   "metadata": {
    "collapsed": false
   },
   "outputs": [],
   "source": [
    "sns.pairplot(user)"
   ]
  },
  {
   "cell_type": "code",
   "execution_count": 163,
   "metadata": {
    "collapsed": false
   },
   "outputs": [
    {
     "data": {
      "text/plain": [
       "<matplotlib.axes._subplots.AxesSubplot at 0x1e1e49550>"
      ]
     },
     "execution_count": 163,
     "metadata": {},
     "output_type": "execute_result"
    },
    {
     "data": {
      "image/png": "[encoded data removed]",
      "text/plain": [
       "<matplotlib.figure.Figure at 0x1d2bf9590>"
      ]
     },
     "metadata": {},
     "output_type": "display_data"
    }
   ],
   "source": [
    "user.plot()"
   ]
  },
  {
   "cell_type": "code",
   "execution_count": 213,
   "metadata": {
    "collapsed": false
   },
   "outputs": [
    {
     "data": {
      "text/plain": [
       "<matplotlib.axes._subplots.AxesSubplot at 0x205e35b10>"
      ]
     },
     "execution_count": 213,
     "metadata": {},
     "output_type": "execute_result"
    },
    {
     "data": {
      "image/png": "[encoded data removed]",
      "text/plain": [
       "<matplotlib.figure.Figure at 0x205e39d10>"
      ]
     },
     "metadata": {},
     "output_type": "display_data"
    }
   ],
   "source": [
    "user.average_stars.hist(bins = 40)"
   ]
  },
  {
   "cell_type": "code",
   "execution_count": 206,
   "metadata": {
    "collapsed": false
   },
   "outputs": [
    {
     "data": {
      "text/plain": [
       "<matplotlib.axes._subplots.AxesSubplot at 0x203bfeed0>"
      ]
     },
     "execution_count": 206,
     "metadata": {},
     "output_type": "execute_result"
    },
    {
     "data": {
      "image/png": "[encoded data removed]",
      "text/plain": [
       "<matplotlib.figure.Figure at 0x20a4bc090>"
      ]
     },
     "metadata": {},
     "output_type": "display_data"
    }
   ],
   "source": [
    "user.fans.plot()"
   ]
  },
  {
   "cell_type": "code",
   "execution_count": 212,
   "metadata": {
    "collapsed": false
   },
   "outputs": [
    {
     "data": {
      "text/plain": [
       "<matplotlib.axes._subplots.AxesSubplot at 0x1fd949e50>"
      ]
     },
     "execution_count": 212,
     "metadata": {},
     "output_type": "execute_result"
    },
    {
     "data": {
      "image/png": "[encoded data removed]",
      "text/plain": [
       "<matplotlib.figure.Figure at 0x1fd95dd50>"
      ]
     },
     "metadata": {},
     "output_type": "display_data"
    }
   ],
   "source": [
    "user.fans.plot()"
   ]
  },
  {
   "cell_type": "code",
   "execution_count": 211,
   "metadata": {
    "collapsed": false
   },
   "outputs": [
    {
     "data": {
      "text/plain": [
       "<matplotlib.axes._subplots.AxesSubplot at 0x203d81550>"
      ]
     },
     "execution_count": 211,
     "metadata": {},
     "output_type": "execute_result"
    },
    {
     "data": {
      "image/png": "[encoded data removed]",
      "text/plain": [
       "<matplotlib.figure.Figure at 0x2021aaa10>"
      ]
     },
     "metadata": {},
     "output_type": "display_data"
    }
   ],
   "source": [
    "user.number_compliments.plot()"
   ]
  },
  {
   "cell_type": "code",
   "execution_count": 22,
   "metadata": {
    "collapsed": false
   },
   "outputs": [
    {
     "data": {
      "text/plain": [
       "<matplotlib.collections.PathCollection at 0x62ad7f690>"
      ]
     },
     "execution_count": 22,
     "metadata": {},
     "output_type": "execute_result"
    },
    {
     "data": {
      "image/png": "[encoded data removed]",
      "text/plain": [
       "<matplotlib.figure.Figure at 0x53bf1c750>"
      ]
     },
     "metadata": {},
     "output_type": "display_data"
    }
   ],
   "source": [
    "plt.scatter(business.latitude, business.longitude)"
   ]
  },
  {
   "cell_type": "code",
   "execution_count": null,
   "metadata": {
    "collapsed": true
   },
   "outputs": [],
   "source": []
  },
  {
   "cell_type": "markdown",
   "metadata": {},
   "source": [
    "# Model Explorations "
   ]
  },
  {
   "cell_type": "markdown",
   "metadata": {},
   "source": [
    "### Cultural Trends: \n",
    "By adding a diverse set of cities, we want participants to compare and contrast what makes a particular city different. For example, are people in international cities less concerned about driving in to a business, indicated by their lack of mention about parking? What cuisines are Yelpers raving about in these different countries? Do Americans tend to eat out late compared to the Germans and English? In which countries are Yelpers sticklers for service quality? In international cities such as Montreal, are French speakers reviewing places differently than English speakers?\n",
    "\n"
   ]
  },
  {
   "cell_type": "code",
   "execution_count": 179,
   "metadata": {
    "collapsed": false
   },
   "outputs": [
    {
     "data": {
      "text/plain": [
       "Index([        u'attributes',        u'business_id',         u'categories',\n",
       "                     u'city',       u'full_address',              u'hours',\n",
       "                 u'latitude',          u'longitude',             u'name_x',\n",
       "            u'neighborhoods',               u'open',     u'review_count_x',\n",
       "                  u'stars_x',              u'state',             u'type_x',\n",
       "                 u'take_out',         u'drive_thru',    u'ourdoor_seating',\n",
       "                    u'cater',              u'noise',            u'parking',\n",
       "                 u'delivery',             u'attire',                 u'tv',\n",
       "                    u'price',        u'reservation',             u'waiter',\n",
       "              u'credit_card',               u'kids',             u'groups',\n",
       "                  u'alcohol',         u'happy_hour',               u'wifi',\n",
       "               u'wheelchair',   u'appointment_only',            u'dancing',\n",
       "                u'coatcheck',               u'dogs',               u'date',\n",
       "                u'review_id',            u'stars_y',               u'text',\n",
       "                   u'type_y',            u'user_id',            u'votes_x',\n",
       "                   u'cool_x',            u'funny_x',           u'useful_x',\n",
       "            u'average_stars',        u'compliments',              u'elite',\n",
       "                     u'fans',            u'friends',             u'name_y',\n",
       "           u'review_count_y',               u'type',            u'votes_y',\n",
       "            u'yelping_since',             u'cool_y',            u'funny_y',\n",
       "                 u'useful_y',     u'number_friends',             u'elites',\n",
       "               u'compliment', u'number_compliments'],\n",
       "      dtype='object')"
      ]
     },
     "execution_count": 179,
     "metadata": {},
     "output_type": "execute_result"
    }
   ],
   "source": [
    "df.columns"
   ]
  },
  {
   "cell_type": "code",
   "execution_count": 182,
   "metadata": {
    "collapsed": false,
    "scrolled": true
   },
   "outputs": [
    {
     "data": {
      "text/html": [
       "<div>\n",
       "<table border=\"1\" class=\"dataframe\">\n",
       "  <thead>\n",
       "    <tr style=\"text-align: right;\">\n",
       "      <th></th>\n",
       "      <th>0</th>\n",
       "      <th>1</th>\n",
       "      <th>2</th>\n",
       "    </tr>\n",
       "  </thead>\n",
       "  <tbody>\n",
       "    <tr>\n",
       "      <th>attributes</th>\n",
       "      <td>{u'Take-out': True, u'Drive-Thru': False, u'Ou...</td>\n",
       "      <td>{u'Take-out': True, u'Drive-Thru': False, u'Ou...</td>\n",
       "      <td>{u'Take-out': True, u'Drive-Thru': False, u'Ou...</td>\n",
       "    </tr>\n",
       "    <tr>\n",
       "      <th>business_id</th>\n",
       "      <td>5UmKMjUEUNdYWqANhGckJw</td>\n",
       "      <td>5UmKMjUEUNdYWqANhGckJw</td>\n",
       "      <td>5UmKMjUEUNdYWqANhGckJw</td>\n",
       "    </tr>\n",
       "    <tr>\n",
       "      <th>categories</th>\n",
       "      <td>[Fast Food, Restaurants]</td>\n",
       "      <td>[Fast Food, Restaurants]</td>\n",
       "      <td>[Fast Food, Restaurants]</td>\n",
       "    </tr>\n",
       "    <tr>\n",
       "      <th>city</th>\n",
       "      <td>Dravosburg</td>\n",
       "      <td>Dravosburg</td>\n",
       "      <td>Dravosburg</td>\n",
       "    </tr>\n",
       "    <tr>\n",
       "      <th>full_address</th>\n",
       "      <td>4734 Lebanon Church Rd\\nDravosburg, PA 15034</td>\n",
       "      <td>4734 Lebanon Church Rd\\nDravosburg, PA 15034</td>\n",
       "      <td>4734 Lebanon Church Rd\\nDravosburg, PA 15034</td>\n",
       "    </tr>\n",
       "    <tr>\n",
       "      <th>hours</th>\n",
       "      <td>{u'Tuesday': {u'close': u'21:00', u'open': u'1...</td>\n",
       "      <td>{u'Tuesday': {u'close': u'21:00', u'open': u'1...</td>\n",
       "      <td>{u'Tuesday': {u'close': u'21:00', u'open': u'1...</td>\n",
       "    </tr>\n",
       "    <tr>\n",
       "      <th>latitude</th>\n",
       "      <td>40.3543</td>\n",
       "      <td>40.3543</td>\n",
       "      <td>40.3543</td>\n",
       "    </tr>\n",
       "    <tr>\n",
       "      <th>longitude</th>\n",
       "      <td>-79.9007</td>\n",
       "      <td>-79.9007</td>\n",
       "      <td>-79.9007</td>\n",
       "    </tr>\n",
       "    <tr>\n",
       "      <th>name_x</th>\n",
       "      <td>Mr Hoagie</td>\n",
       "      <td>Mr Hoagie</td>\n",
       "      <td>Mr Hoagie</td>\n",
       "    </tr>\n",
       "    <tr>\n",
       "      <th>neighborhoods</th>\n",
       "      <td>[]</td>\n",
       "      <td>[]</td>\n",
       "      <td>[]</td>\n",
       "    </tr>\n",
       "    <tr>\n",
       "      <th>open</th>\n",
       "      <td>True</td>\n",
       "      <td>True</td>\n",
       "      <td>True</td>\n",
       "    </tr>\n",
       "    <tr>\n",
       "      <th>review_count_x</th>\n",
       "      <td>4</td>\n",
       "      <td>4</td>\n",
       "      <td>4</td>\n",
       "    </tr>\n",
       "    <tr>\n",
       "      <th>stars_x</th>\n",
       "      <td>4.5</td>\n",
       "      <td>4.5</td>\n",
       "      <td>4.5</td>\n",
       "    </tr>\n",
       "    <tr>\n",
       "      <th>state</th>\n",
       "      <td>PA</td>\n",
       "      <td>PA</td>\n",
       "      <td>PA</td>\n",
       "    </tr>\n",
       "    <tr>\n",
       "      <th>type_x</th>\n",
       "      <td>business</td>\n",
       "      <td>business</td>\n",
       "      <td>business</td>\n",
       "    </tr>\n",
       "    <tr>\n",
       "      <th>take_out</th>\n",
       "      <td>True</td>\n",
       "      <td>True</td>\n",
       "      <td>True</td>\n",
       "    </tr>\n",
       "    <tr>\n",
       "      <th>drive_thru</th>\n",
       "      <td>False</td>\n",
       "      <td>False</td>\n",
       "      <td>False</td>\n",
       "    </tr>\n",
       "    <tr>\n",
       "      <th>ourdoor_seating</th>\n",
       "      <td>False</td>\n",
       "      <td>False</td>\n",
       "      <td>False</td>\n",
       "    </tr>\n",
       "    <tr>\n",
       "      <th>cater</th>\n",
       "      <td>False</td>\n",
       "      <td>False</td>\n",
       "      <td>False</td>\n",
       "    </tr>\n",
       "    <tr>\n",
       "      <th>noise</th>\n",
       "      <td>average</td>\n",
       "      <td>average</td>\n",
       "      <td>average</td>\n",
       "    </tr>\n",
       "    <tr>\n",
       "      <th>parking</th>\n",
       "      <td>False</td>\n",
       "      <td>False</td>\n",
       "      <td>False</td>\n",
       "    </tr>\n",
       "    <tr>\n",
       "      <th>delivery</th>\n",
       "      <td>False</td>\n",
       "      <td>False</td>\n",
       "      <td>False</td>\n",
       "    </tr>\n",
       "    <tr>\n",
       "      <th>attire</th>\n",
       "      <td>casual</td>\n",
       "      <td>casual</td>\n",
       "      <td>casual</td>\n",
       "    </tr>\n",
       "    <tr>\n",
       "      <th>tv</th>\n",
       "      <td>False</td>\n",
       "      <td>False</td>\n",
       "      <td>False</td>\n",
       "    </tr>\n",
       "    <tr>\n",
       "      <th>price</th>\n",
       "      <td>1</td>\n",
       "      <td>1</td>\n",
       "      <td>1</td>\n",
       "    </tr>\n",
       "    <tr>\n",
       "      <th>reservation</th>\n",
       "      <td>False</td>\n",
       "      <td>False</td>\n",
       "      <td>False</td>\n",
       "    </tr>\n",
       "    <tr>\n",
       "      <th>waiter</th>\n",
       "      <td>False</td>\n",
       "      <td>False</td>\n",
       "      <td>False</td>\n",
       "    </tr>\n",
       "    <tr>\n",
       "      <th>credit_card</th>\n",
       "      <td>True</td>\n",
       "      <td>True</td>\n",
       "      <td>True</td>\n",
       "    </tr>\n",
       "    <tr>\n",
       "      <th>kids</th>\n",
       "      <td>True</td>\n",
       "      <td>True</td>\n",
       "      <td>True</td>\n",
       "    </tr>\n",
       "    <tr>\n",
       "      <th>groups</th>\n",
       "      <td>True</td>\n",
       "      <td>True</td>\n",
       "      <td>True</td>\n",
       "    </tr>\n",
       "    <tr>\n",
       "      <th>...</th>\n",
       "      <td>...</td>\n",
       "      <td>...</td>\n",
       "      <td>...</td>\n",
       "    </tr>\n",
       "    <tr>\n",
       "      <th>dancing</th>\n",
       "      <td>False</td>\n",
       "      <td>False</td>\n",
       "      <td>False</td>\n",
       "    </tr>\n",
       "    <tr>\n",
       "      <th>coatcheck</th>\n",
       "      <td>unknown</td>\n",
       "      <td>unknown</td>\n",
       "      <td>unknown</td>\n",
       "    </tr>\n",
       "    <tr>\n",
       "      <th>dogs</th>\n",
       "      <td>False</td>\n",
       "      <td>False</td>\n",
       "      <td>False</td>\n",
       "    </tr>\n",
       "    <tr>\n",
       "      <th>date</th>\n",
       "      <td>2012-08-01 00:00:00</td>\n",
       "      <td>2014-02-13 00:00:00</td>\n",
       "      <td>2015-10-31 00:00:00</td>\n",
       "    </tr>\n",
       "    <tr>\n",
       "      <th>review_id</th>\n",
       "      <td>Ya85v4eqdd6k9Od8HbQjyA</td>\n",
       "      <td>KPvLNJ21_4wbYNctrOwWdQ</td>\n",
       "      <td>fFSoGV46Yxuwbr3fHNuZig</td>\n",
       "    </tr>\n",
       "    <tr>\n",
       "      <th>stars_y</th>\n",
       "      <td>4</td>\n",
       "      <td>5</td>\n",
       "      <td>5</td>\n",
       "    </tr>\n",
       "    <tr>\n",
       "      <th>text</th>\n",
       "      <td>Mr Hoagie is an institution. Walking in, it do...</td>\n",
       "      <td>Excellent food. Superb customer service. I mis...</td>\n",
       "      <td>Yes this place is a little out dated and not o...</td>\n",
       "    </tr>\n",
       "    <tr>\n",
       "      <th>type_y</th>\n",
       "      <td>review</td>\n",
       "      <td>review</td>\n",
       "      <td>review</td>\n",
       "    </tr>\n",
       "    <tr>\n",
       "      <th>user_id</th>\n",
       "      <td>PUFPaY9KxDAcGqfsorJp3Q</td>\n",
       "      <td>Iu6AxdBYGR4A0wspR9BYHA</td>\n",
       "      <td>auESFwWvW42h6alXgFxAXQ</td>\n",
       "    </tr>\n",
       "    <tr>\n",
       "      <th>votes_x</th>\n",
       "      <td>{u'funny': 0, u'useful': 0, u'cool': 0}</td>\n",
       "      <td>{u'funny': 0, u'useful': 0, u'cool': 0}</td>\n",
       "      <td>{u'funny': 0, u'useful': 0, u'cool': 0}</td>\n",
       "    </tr>\n",
       "    <tr>\n",
       "      <th>cool_x</th>\n",
       "      <td>0</td>\n",
       "      <td>0</td>\n",
       "      <td>0</td>\n",
       "    </tr>\n",
       "    <tr>\n",
       "      <th>funny_x</th>\n",
       "      <td>0</td>\n",
       "      <td>0</td>\n",
       "      <td>0</td>\n",
       "    </tr>\n",
       "    <tr>\n",
       "      <th>useful_x</th>\n",
       "      <td>0</td>\n",
       "      <td>0</td>\n",
       "      <td>0</td>\n",
       "    </tr>\n",
       "    <tr>\n",
       "      <th>average_stars</th>\n",
       "      <td>3.08</td>\n",
       "      <td>2.71</td>\n",
       "      <td>3.67</td>\n",
       "    </tr>\n",
       "    <tr>\n",
       "      <th>compliments</th>\n",
       "      <td>{u'note': 1, u'plain': 1, u'hot': 1, u'more': 1}</td>\n",
       "      <td>{}</td>\n",
       "      <td>{}</td>\n",
       "    </tr>\n",
       "    <tr>\n",
       "      <th>elite</th>\n",
       "      <td>[]</td>\n",
       "      <td>[]</td>\n",
       "      <td>[]</td>\n",
       "    </tr>\n",
       "    <tr>\n",
       "      <th>fans</th>\n",
       "      <td>0</td>\n",
       "      <td>0</td>\n",
       "      <td>0</td>\n",
       "    </tr>\n",
       "    <tr>\n",
       "      <th>friends</th>\n",
       "      <td>[]</td>\n",
       "      <td>[]</td>\n",
       "      <td>[]</td>\n",
       "    </tr>\n",
       "    <tr>\n",
       "      <th>name_y</th>\n",
       "      <td>Jeffrey</td>\n",
       "      <td>Will</td>\n",
       "      <td>Christine</td>\n",
       "    </tr>\n",
       "    <tr>\n",
       "      <th>review_count_y</th>\n",
       "      <td>60</td>\n",
       "      <td>7</td>\n",
       "      <td>6</td>\n",
       "    </tr>\n",
       "    <tr>\n",
       "      <th>type</th>\n",
       "      <td>user</td>\n",
       "      <td>user</td>\n",
       "      <td>user</td>\n",
       "    </tr>\n",
       "    <tr>\n",
       "      <th>votes_y</th>\n",
       "      <td>{u'funny': 25, u'useful': 166, u'cool': 12}</td>\n",
       "      <td>{u'funny': 0, u'useful': 1, u'cool': 0}</td>\n",
       "      <td>{u'funny': 2, u'useful': 2, u'cool': 0}</td>\n",
       "    </tr>\n",
       "    <tr>\n",
       "      <th>yelping_since</th>\n",
       "      <td>2009-05</td>\n",
       "      <td>2013-11</td>\n",
       "      <td>2015-03</td>\n",
       "    </tr>\n",
       "    <tr>\n",
       "      <th>cool_y</th>\n",
       "      <td>12</td>\n",
       "      <td>0</td>\n",
       "      <td>0</td>\n",
       "    </tr>\n",
       "    <tr>\n",
       "      <th>funny_y</th>\n",
       "      <td>25</td>\n",
       "      <td>0</td>\n",
       "      <td>2</td>\n",
       "    </tr>\n",
       "    <tr>\n",
       "      <th>useful_y</th>\n",
       "      <td>166</td>\n",
       "      <td>1</td>\n",
       "      <td>2</td>\n",
       "    </tr>\n",
       "    <tr>\n",
       "      <th>number_friends</th>\n",
       "      <td>0</td>\n",
       "      <td>0</td>\n",
       "      <td>0</td>\n",
       "    </tr>\n",
       "    <tr>\n",
       "      <th>elites</th>\n",
       "      <td>0</td>\n",
       "      <td>0</td>\n",
       "      <td>0</td>\n",
       "    </tr>\n",
       "    <tr>\n",
       "      <th>compliment</th>\n",
       "      <td>[note, plain, hot, more]</td>\n",
       "      <td>[]</td>\n",
       "      <td>[]</td>\n",
       "    </tr>\n",
       "    <tr>\n",
       "      <th>number_compliments</th>\n",
       "      <td>4</td>\n",
       "      <td>0</td>\n",
       "      <td>0</td>\n",
       "    </tr>\n",
       "  </tbody>\n",
       "</table>\n",
       "<p>65 rows × 3 columns</p>\n",
       "</div>"
      ],
      "text/plain": [
       "                                                                    0  \\\n",
       "attributes          {u'Take-out': True, u'Drive-Thru': False, u'Ou...   \n",
       "business_id                                    5UmKMjUEUNdYWqANhGckJw   \n",
       "categories                                   [Fast Food, Restaurants]   \n",
       "city                                                       Dravosburg   \n",
       "full_address             4734 Lebanon Church Rd\\nDravosburg, PA 15034   \n",
       "hours               {u'Tuesday': {u'close': u'21:00', u'open': u'1...   \n",
       "latitude                                                      40.3543   \n",
       "longitude                                                    -79.9007   \n",
       "name_x                                                      Mr Hoagie   \n",
       "neighborhoods                                                      []   \n",
       "open                                                             True   \n",
       "review_count_x                                                      4   \n",
       "stars_x                                                           4.5   \n",
       "state                                                              PA   \n",
       "type_x                                                       business   \n",
       "take_out                                                         True   \n",
       "drive_thru                                                      False   \n",
       "ourdoor_seating                                                 False   \n",
       "cater                                                           False   \n",
       "noise                                                         average   \n",
       "parking                                                         False   \n",
       "delivery                                                        False   \n",
       "attire                                                         casual   \n",
       "tv                                                              False   \n",
       "price                                                               1   \n",
       "reservation                                                     False   \n",
       "waiter                                                          False   \n",
       "credit_card                                                      True   \n",
       "kids                                                             True   \n",
       "groups                                                           True   \n",
       "...                                                               ...   \n",
       "dancing                                                         False   \n",
       "coatcheck                                                     unknown   \n",
       "dogs                                                            False   \n",
       "date                                              2012-08-01 00:00:00   \n",
       "review_id                                      Ya85v4eqdd6k9Od8HbQjyA   \n",
       "stars_y                                                             4   \n",
       "text                Mr Hoagie is an institution. Walking in, it do...   \n",
       "type_y                                                         review   \n",
       "user_id                                        PUFPaY9KxDAcGqfsorJp3Q   \n",
       "votes_x                       {u'funny': 0, u'useful': 0, u'cool': 0}   \n",
       "cool_x                                                              0   \n",
       "funny_x                                                             0   \n",
       "useful_x                                                            0   \n",
       "average_stars                                                    3.08   \n",
       "compliments          {u'note': 1, u'plain': 1, u'hot': 1, u'more': 1}   \n",
       "elite                                                              []   \n",
       "fans                                                                0   \n",
       "friends                                                            []   \n",
       "name_y                                                        Jeffrey   \n",
       "review_count_y                                                     60   \n",
       "type                                                             user   \n",
       "votes_y                   {u'funny': 25, u'useful': 166, u'cool': 12}   \n",
       "yelping_since                                                 2009-05   \n",
       "cool_y                                                             12   \n",
       "funny_y                                                            25   \n",
       "useful_y                                                          166   \n",
       "number_friends                                                      0   \n",
       "elites                                                              0   \n",
       "compliment                                   [note, plain, hot, more]   \n",
       "number_compliments                                                  4   \n",
       "\n",
       "                                                                    1  \\\n",
       "attributes          {u'Take-out': True, u'Drive-Thru': False, u'Ou...   \n",
       "business_id                                    5UmKMjUEUNdYWqANhGckJw   \n",
       "categories                                   [Fast Food, Restaurants]   \n",
       "city                                                       Dravosburg   \n",
       "full_address             4734 Lebanon Church Rd\\nDravosburg, PA 15034   \n",
       "hours               {u'Tuesday': {u'close': u'21:00', u'open': u'1...   \n",
       "latitude                                                      40.3543   \n",
       "longitude                                                    -79.9007   \n",
       "name_x                                                      Mr Hoagie   \n",
       "neighborhoods                                                      []   \n",
       "open                                                             True   \n",
       "review_count_x                                                      4   \n",
       "stars_x                                                           4.5   \n",
       "state                                                              PA   \n",
       "type_x                                                       business   \n",
       "take_out                                                         True   \n",
       "drive_thru                                                      False   \n",
       "ourdoor_seating                                                 False   \n",
       "cater                                                           False   \n",
       "noise                                                         average   \n",
       "parking                                                         False   \n",
       "delivery                                                        False   \n",
       "attire                                                         casual   \n",
       "tv                                                              False   \n",
       "price                                                               1   \n",
       "reservation                                                     False   \n",
       "waiter                                                          False   \n",
       "credit_card                                                      True   \n",
       "kids                                                             True   \n",
       "groups                                                           True   \n",
       "...                                                               ...   \n",
       "dancing                                                         False   \n",
       "coatcheck                                                     unknown   \n",
       "dogs                                                            False   \n",
       "date                                              2014-02-13 00:00:00   \n",
       "review_id                                      KPvLNJ21_4wbYNctrOwWdQ   \n",
       "stars_y                                                             5   \n",
       "text                Excellent food. Superb customer service. I mis...   \n",
       "type_y                                                         review   \n",
       "user_id                                        Iu6AxdBYGR4A0wspR9BYHA   \n",
       "votes_x                       {u'funny': 0, u'useful': 0, u'cool': 0}   \n",
       "cool_x                                                              0   \n",
       "funny_x                                                             0   \n",
       "useful_x                                                            0   \n",
       "average_stars                                                    2.71   \n",
       "compliments                                                        {}   \n",
       "elite                                                              []   \n",
       "fans                                                                0   \n",
       "friends                                                            []   \n",
       "name_y                                                           Will   \n",
       "review_count_y                                                      7   \n",
       "type                                                             user   \n",
       "votes_y                       {u'funny': 0, u'useful': 1, u'cool': 0}   \n",
       "yelping_since                                                 2013-11   \n",
       "cool_y                                                              0   \n",
       "funny_y                                                             0   \n",
       "useful_y                                                            1   \n",
       "number_friends                                                      0   \n",
       "elites                                                              0   \n",
       "compliment                                                         []   \n",
       "number_compliments                                                  0   \n",
       "\n",
       "                                                                    2  \n",
       "attributes          {u'Take-out': True, u'Drive-Thru': False, u'Ou...  \n",
       "business_id                                    5UmKMjUEUNdYWqANhGckJw  \n",
       "categories                                   [Fast Food, Restaurants]  \n",
       "city                                                       Dravosburg  \n",
       "full_address             4734 Lebanon Church Rd\\nDravosburg, PA 15034  \n",
       "hours               {u'Tuesday': {u'close': u'21:00', u'open': u'1...  \n",
       "latitude                                                      40.3543  \n",
       "longitude                                                    -79.9007  \n",
       "name_x                                                      Mr Hoagie  \n",
       "neighborhoods                                                      []  \n",
       "open                                                             True  \n",
       "review_count_x                                                      4  \n",
       "stars_x                                                           4.5  \n",
       "state                                                              PA  \n",
       "type_x                                                       business  \n",
       "take_out                                                         True  \n",
       "drive_thru                                                      False  \n",
       "ourdoor_seating                                                 False  \n",
       "cater                                                           False  \n",
       "noise                                                         average  \n",
       "parking                                                         False  \n",
       "delivery                                                        False  \n",
       "attire                                                         casual  \n",
       "tv                                                              False  \n",
       "price                                                               1  \n",
       "reservation                                                     False  \n",
       "waiter                                                          False  \n",
       "credit_card                                                      True  \n",
       "kids                                                             True  \n",
       "groups                                                           True  \n",
       "...                                                               ...  \n",
       "dancing                                                         False  \n",
       "coatcheck                                                     unknown  \n",
       "dogs                                                            False  \n",
       "date                                              2015-10-31 00:00:00  \n",
       "review_id                                      fFSoGV46Yxuwbr3fHNuZig  \n",
       "stars_y                                                             5  \n",
       "text                Yes this place is a little out dated and not o...  \n",
       "type_y                                                         review  \n",
       "user_id                                        auESFwWvW42h6alXgFxAXQ  \n",
       "votes_x                       {u'funny': 0, u'useful': 0, u'cool': 0}  \n",
       "cool_x                                                              0  \n",
       "funny_x                                                             0  \n",
       "useful_x                                                            0  \n",
       "average_stars                                                    3.67  \n",
       "compliments                                                        {}  \n",
       "elite                                                              []  \n",
       "fans                                                                0  \n",
       "friends                                                            []  \n",
       "name_y                                                      Christine  \n",
       "review_count_y                                                      6  \n",
       "type                                                             user  \n",
       "votes_y                       {u'funny': 2, u'useful': 2, u'cool': 0}  \n",
       "yelping_since                                                 2015-03  \n",
       "cool_y                                                              0  \n",
       "funny_y                                                             2  \n",
       "useful_y                                                            2  \n",
       "number_friends                                                      0  \n",
       "elites                                                              0  \n",
       "compliment                                                         []  \n",
       "number_compliments                                                  0  \n",
       "\n",
       "[65 rows x 3 columns]"
      ]
     },
     "execution_count": 182,
     "metadata": {},
     "output_type": "execute_result"
    }
   ],
   "source": [
    "df.head(3).T"
   ]
  },
  {
   "cell_type": "code",
   "execution_count": 183,
   "metadata": {
    "collapsed": false
   },
   "outputs": [],
   "source": [
    "drop = ['votes_y','friends','elite','compliments','votes_x','type_y','user_id','type_x','review_id','attributes',\\\n",
    "        'business_id','full_address','hours','neighborhoods','open']\n",
    "ndf = df.drop(drop, 1)"
   ]
  },
  {
   "cell_type": "code",
   "execution_count": 184,
   "metadata": {
    "collapsed": false
   },
   "outputs": [
    {
     "data": {
      "text/plain": [
       "Index([        u'categories',               u'city',           u'latitude',\n",
       "                u'longitude',             u'name_x',     u'review_count_x',\n",
       "                  u'stars_x',              u'state',           u'take_out',\n",
       "               u'drive_thru',    u'ourdoor_seating',              u'cater',\n",
       "                    u'noise',            u'parking',           u'delivery',\n",
       "                   u'attire',                 u'tv',              u'price',\n",
       "              u'reservation',             u'waiter',        u'credit_card',\n",
       "                     u'kids',             u'groups',            u'alcohol',\n",
       "               u'happy_hour',               u'wifi',         u'wheelchair',\n",
       "         u'appointment_only',            u'dancing',          u'coatcheck',\n",
       "                     u'dogs',               u'date',            u'stars_y',\n",
       "                     u'text',             u'cool_x',            u'funny_x',\n",
       "                 u'useful_x',      u'average_stars',               u'fans',\n",
       "                   u'name_y',     u'review_count_y',               u'type',\n",
       "            u'yelping_since',             u'cool_y',            u'funny_y',\n",
       "                 u'useful_y',     u'number_friends',             u'elites',\n",
       "               u'compliment', u'number_compliments'],\n",
       "      dtype='object')"
      ]
     },
     "execution_count": 184,
     "metadata": {},
     "output_type": "execute_result"
    }
   ],
   "source": [
    "ndf.columns"
   ]
  },
  {
   "cell_type": "code",
   "execution_count": null,
   "metadata": {
    "collapsed": true
   },
   "outputs": [],
   "source": []
  },
  {
   "cell_type": "markdown",
   "metadata": {},
   "source": [
    "### Location Mining and Urban Planning: \n",
    "How much of a business' success is really just location, location, location? Do you see reviewers' behavior change when they travel?"
   ]
  },
  {
   "cell_type": "markdown",
   "metadata": {},
   "source": [
    "### Seasonal Trends: \n",
    "What about seasonal effects: Are HVAC contractors being reviewed just at onset of winter, and manicure salons at onset of summer? Are there more reviews for sports bars on major game days and if so, could you predict that?"
   ]
  },
  {
   "cell_type": "markdown",
   "metadata": {},
   "source": [
    "### Infer Categories: \n",
    "Do you see any non-intuitive correlations between business categories e.g., how many karaoke bars also offer Korean food, and vice versa? What businesses deserve their own subcategory (i.e., Szechuan or Hunan versus just \"Chinese restaurants\"), and can you learn this from the review text?"
   ]
  },
  {
   "cell_type": "markdown",
   "metadata": {},
   "source": [
    "### Natural Language Processing (NLP): \n",
    "How well can you guess a review's rating from its text alone? What are the most common positive and negative words used in our reviews? Are Yelpers a sarcastic bunch? And what kinds of correlations do you see between tips and reviews: could you extract tips from reviews?"
   ]
  },
  {
   "cell_type": "markdown",
   "metadata": {},
   "source": [
    "### Changepoints and Events: \n",
    "Can you detect when things change suddenly (i.e. a business coming under new management)? Can you see when a city starts going nuts over cronuts?"
   ]
  },
  {
   "cell_type": "markdown",
   "metadata": {},
   "source": [
    "### Social Graph Mining: \n",
    "Can you figure out who the trend setters are and who found the best waffle joint before waffles were cool? How much influence does my social circle have on my business choices and my ratings?"
   ]
  },
  {
   "cell_type": "code",
   "execution_count": null,
   "metadata": {
    "collapsed": true
   },
   "outputs": [],
   "source": []
  }
 ],
 "metadata": {
  "kernelspec": {
   "display_name": "Python 2",
   "language": "python",
   "name": "python2"
  },
  "language_info": {
   "codemirror_mode": {
    "name": "ipython",
    "version": 2
   },
   "file_extension": ".py",
   "mimetype": "text/x-python",
   "name": "python",
   "nbconvert_exporter": "python",
   "pygments_lexer": "ipython2",
   "version": "2.7.12"
  }
 },
 "nbformat": 4,
 "nbformat_minor": 0
}
